{
 "cells": [
  {
   "cell_type": "markdown",
   "metadata": {},
   "source": [
    "# <center>ECON 725: Computer Programming and Data Management in Economics <a class=\"tocSkip\"></center>    \n",
    "# <center>In-class Assessment #3: Intro to SQL <a class=\"tocSkip\"></center>"
   ]
  },
  {
   "cell_type": "markdown",
   "metadata": {
    "vscode": {
     "languageId": "plaintext"
    }
   },
   "source": [
    "## In-class Assessment <a class=\"tocSkip\">\n",
    "<hr>\n",
    "\n",
    "Name: FirstName LastName <br>"
   ]
  },
  {
   "cell_type": "markdown",
   "metadata": {},
   "source": [
    "Instructions:\n",
    "1. Start with Question 0 to set up your database\n",
    "2. Then answer Questions 1-5\n",
    "3. Test your code before submitting"
   ]
  },
  {
   "cell_type": "code",
   "execution_count": 2,
   "metadata": {},
   "outputs": [],
   "source": [
    "# make sure you have the following libraries installed in your machine!\n",
    "import sqlite3\n",
    "from faker import Faker\n",
    "import random"
   ]
  },
  {
   "cell_type": "markdown",
   "metadata": {},
   "source": [
    "### Question 0\n",
    "\n",
    "Using the Faker library and SQLite, create a company database with the following specifications:\n",
    "\n",
    "1. Create a database called 'company.db' with three tables:\n",
    "   \n",
    "   a) employees table with columns:\n",
    "      - `emp_id` (INTEGER PRIMARY KEY)\n",
    "      - `first_name` (TEXT)\n",
    "      - `last_name` (TEXT)\n",
    "      - `email` (TEXT)\n",
    "      - `department_id` (INTEGER)\n",
    "      - `salary` (INTEGER)\n",
    "      - `hire_date` (TEXT)\n",
    "   \n",
    "   b) departments table with columns:\n",
    "      - `dept_id` (INTEGER PRIMARY KEY)\n",
    "      - `dept_name` (TEXT)\n",
    "      - `location` (TEXT)\n",
    "   \n",
    "   c) projects table with columns:\n",
    "      - `project_id` (INTEGER PRIMARY KEY)\n",
    "      - `project_name` (TEXT)\n",
    "      - `emp_id` (INTEGER)\n",
    "      - `budget` (INTEGER)\n",
    "      - `status` (TEXT)\n",
    "\n",
    "2. Populate the tables with synthetic data:\n",
    "   - Create 5 departments: \n",
    "        `(1, 'Engineering', 'San Francisco'),\n",
    "        (2, 'Marketing', 'New York'),\n",
    "        (3, 'Sales', 'Chicago'),\n",
    "        (4, 'HR', 'Boston'),\n",
    "        (5, 'Finance', 'Seattle')`\n",
    "   - Generate 50 employees using Faker with:\n",
    "     * Random first and last names\n",
    "     * Email format: firstname.lastname@econ725.com (lowercase)\n",
    "     * Random `department_id` between 1-5\n",
    "     * Random salary between 50,000 and 150,000\n",
    "     * Random `hire_date` within the last 5 years\n",
    "   - Generate 30 projects using Faker with:\n",
    "     * Project names from `fake.catch_phrase()`\n",
    "     * Random emp_id between 1-50\n",
    "     * Random budget between 10,000 and 500,000\n",
    "     * Random status from: 'Active', 'Completed', 'On Hold', 'Cancelled'\n",
    "\n",
    "3. Set random seeds for reproducibility:\n",
    "   - `Faker.seed(42)`\n",
    "   - `random.seed(42)`\n",
    "\n",
    "4. Your code should:\n",
    "   - Drop existing tables if they exist\n",
    "   - Create the three tables\n",
    "   - Insert all data\n",
    "   - Commit the changes\n",
    "   - Print confirmation message\n",
    "\n",
    "Complete the `setup_database()` function below:"
   ]
  },
  {
   "cell_type": "code",
   "execution_count": 3,
   "metadata": {},
   "outputs": [],
   "source": [
    "def setup_database():\n",
    "    \"\"\"Create and populate the company database\"\"\"\n",
    "    # Set seeds for reproducibility\n",
    "    Faker.seed(42)\n",
    "    random.seed(42)\n",
    "    \n",
    "    # Initialize Faker\n",
    "    fake = Faker()\n",
    "    \n",
    "    # Create database and connection\n",
    "    conn = sqlite3.connect('company.db')\n",
    "    cursor = conn.cursor()\n",
    "    \n",
    "    # Drop tables if they exist\n",
    "    cursor.execute(\"DROP TABLE IF EXISTS employees\")\n",
    "    cursor.execute(\"DROP TABLE IF EXISTS departments\")\n",
    "    cursor.execute(\"DROP TABLE IF EXISTS projects\")\n",
    "    \n",
    "    # Create tables\n",
    "    cursor.execute(\"\"\"\n",
    "    CREATE TABLE employees (\n",
    "        emp_id INTEGER PRIMARY KEY,\n",
    "        first_name TEXT,\n",
    "        last_name TEXT,\n",
    "        email TEXT,\n",
    "        department_id INTEGER,\n",
    "        salary INTEGER,\n",
    "        hire_date TEXT\n",
    "    )\n",
    "    \"\"\")\n",
    "    \n",
    "    cursor.execute(\"\"\"\n",
    "    CREATE TABLE departments (\n",
    "        dept_id INTEGER PRIMARY KEY,\n",
    "        dept_name TEXT,\n",
    "        location TEXT\n",
    "    )\n",
    "    \"\"\")\n",
    "    \n",
    "    cursor.execute(\"\"\"\n",
    "    CREATE TABLE projects (\n",
    "        project_id INTEGER PRIMARY KEY,\n",
    "        project_name TEXT,\n",
    "        emp_id INTEGER,\n",
    "        budget INTEGER,\n",
    "        status TEXT\n",
    "    )\n",
    "    \"\"\")\n",
    "    \n",
    "    # Generate and insert departments\n",
    "    departments = [\n",
    "        (1, 'Engineering', 'San Francisco'),\n",
    "        (2, 'Marketing', 'New York'),\n",
    "        (3, 'Sales', 'Chicago'),\n",
    "        (4, 'HR', 'Boston'),\n",
    "        (5, 'Finance', 'Seattle')\n",
    "    ]\n",
    "    cursor.executemany(\"INSERT INTO departments VALUES (?,?,?)\", departments)\n",
    "    \n",
    "    # Generate 50 employees\n",
    "    employees = []\n",
    "    for i in range(1, 51):\n",
    "        first = fake.first_name()\n",
    "        last = fake.last_name()\n",
    "        email = f\"{first.lower()}.{last.lower()}@company.com\"\n",
    "        dept = random.randint(1, 5)\n",
    "        salary = random.randint(50000, 150000)\n",
    "        hire_date = fake.date_between(start_date='-5y', end_date='today').strftime('%Y-%m-%d')\n",
    "        employees.append((i, first, last, email, dept, salary, hire_date))\n",
    "    \n",
    "    cursor.executemany(\"INSERT INTO employees VALUES (?,?,?,?,?,?,?)\", employees)\n",
    "    \n",
    "    # Generate 30 projects\n",
    "    projects = []\n",
    "    statuses = ['Active', 'Completed', 'On Hold', 'Cancelled']\n",
    "    for i in range(1, 31):\n",
    "        project_name = fake.catch_phrase()\n",
    "        emp_id = random.randint(1, 50)\n",
    "        budget = random.randint(10000, 500000)\n",
    "        status = random.choice(statuses)\n",
    "        projects.append((i, project_name, emp_id, budget, status))\n",
    "    \n",
    "    cursor.executemany(\"INSERT INTO projects VALUES (?,?,?,?,?)\", projects)\n",
    "    \n",
    "    # Commit changes\n",
    "    conn.commit()\n",
    "    \n",
    "    # Print confirmation\n",
    "    print(\"Database setup complete!\")\n",
    "    print(f\"Created {len(employees)} employees, {len(departments)} departments, and {len(projects)} projects\")\n",
    "    \n",
    "    # Close connection\n",
    "    conn.close()\n",
    "    pass"
   ]
  },
  {
   "cell_type": "code",
   "execution_count": 4,
   "metadata": {},
   "outputs": [
    {
     "name": "stdout",
     "output_type": "stream",
     "text": [
      "Database setup complete!\n",
      "Created 50 employees, 5 departments, and 30 projects\n"
     ]
    }
   ],
   "source": [
    "# Run the setup\n",
    "setup_database()"
   ]
  },
  {
   "cell_type": "code",
   "execution_count": 5,
   "metadata": {},
   "outputs": [],
   "source": [
    "# ====================\n",
    "# QUESTIONS 1-5\n",
    "# ====================\n",
    "\n",
    "# After completing Question 0, uncomment the lines below to create connection\n",
    "conn = sqlite3.connect('company.db')\n",
    "cursor = conn.cursor()"
   ]
  },
  {
   "cell_type": "markdown",
   "metadata": {},
   "source": [
    "### Question 1 (20 points)\n",
    " Write a function called `get_high_earners()` that returns a list of tuples containing (first_name, last_name, salary) for all employees who earn more than $100,000, ordered by salary in descending order.\n",
    "\n",
    "Expected output format: `[('John', 'Smith', 125000), ('Jane', 'Doe', 120000), ...]`\n"
   ]
  },
  {
   "cell_type": "code",
   "execution_count": 9,
   "metadata": {},
   "outputs": [],
   "source": [
    "def get_high_earners():\n",
    "    \"\"\"Return employees earning more than $100,000\"\"\"\n",
    "    cursor.execute(\"\"\"\n",
    "        SELECT first_name, last_name, salary \n",
    "        FROM employees \n",
    "        WHERE salary > 100000 \n",
    "        ORDER BY salary DESC\n",
    "    \"\"\")\n",
    "    return cursor.fetchall()"
   ]
  },
  {
   "cell_type": "markdown",
   "metadata": {},
   "source": [
    "### Question 2 (20 points)\n",
    "Write a function called `calculate_dept_avg_salary()` that returns a list of tuples containing (dept_name, location, avg_salary) for each department. Round the average salary to 2 decimal places and order by avg_salary descending.\n",
    "\n",
    "Expected output format: `[('Engineering', 'San Francisco', 95432.50), ...]`\n"
   ]
  },
  {
   "cell_type": "code",
   "execution_count": 10,
   "metadata": {},
   "outputs": [],
   "source": [
    "def calculate_dept_avg_salary():\n",
    "    \"\"\"Calculate average salary by department\"\"\"\n",
    "    cursor.execute(\"\"\"\n",
    "        SELECT d.dept_name, d.location, ROUND(AVG(e.salary), 2) as avg_salary\n",
    "        FROM departments d\n",
    "        JOIN employees e ON d.dept_id = e.department_id\n",
    "        GROUP BY d.dept_id\n",
    "        ORDER BY avg_salary DESC\n",
    "    \"\"\")\n",
    "    return cursor.fetchall()"
   ]
  },
  {
   "cell_type": "markdown",
   "metadata": {},
   "source": [
    "### Question 3 (20 points)\n",
    " Write a function called `get_project_summary()` that takes a status parameter (e.g., 'Active', 'Completed') and returns:\n",
    "- Total number of projects with that status\n",
    "- Total budget for those projects\n",
    "- Average budget for those projects (rounded to 2 decimal places)\n",
    "\n",
    "Return as a dictionary with keys: 'count', 'total_budget', 'avg_budget'\n",
    "\n",
    "Expected output: `{'count': 10, 'total_budget': 2500000, 'avg_budget': 250000.00}`\n"
   ]
  },
  {
   "cell_type": "code",
   "execution_count": 11,
   "metadata": {},
   "outputs": [],
   "source": [
    "def get_project_summary(status):\n",
    "    \"\"\"Get summary statistics for projects by status\"\"\"\n",
    "    cursor.execute(\"\"\"\n",
    "        SELECT COUNT(*), SUM(budget), ROUND(AVG(budget), 2)\n",
    "        FROM projects\n",
    "        WHERE status = :status\n",
    "    \"\"\", {'status': status})\n",
    "    \n",
    "    result = cursor.fetchone()\n",
    "    return {\n",
    "        'count': result[0],\n",
    "        'total_budget': result[1],\n",
    "        'avg_budget': result[2]\n",
    "    }"
   ]
  },
  {
   "cell_type": "markdown",
   "metadata": {},
   "source": [
    "### Question 4 (20 points)\n",
    "Write a function called `update_salary_by_dept()` that takes a department_id and a percentage increase (e.g., 10 for 10%) and updates all employees' salaries in that department by the given percentage. Return the number of employees whose salaries were updated.\n",
    "\n",
    "Example: `update_salary_by_dept(1, 10)` should give everyone in dept 1 a 10% raise\n"
   ]
  },
  {
   "cell_type": "code",
   "execution_count": 12,
   "metadata": {},
   "outputs": [],
   "source": [
    "def update_salary_by_dept(dept_id, percentage):\n",
    "    \"\"\"Update salaries for all employees in a department\"\"\"\n",
    "    with conn:\n",
    "        cursor.execute(\"\"\"\n",
    "            UPDATE employees \n",
    "            SET salary = salary * (1 + :pct/100.0)\n",
    "            WHERE department_id = :dept_id\n",
    "        \"\"\", {'dept_id': dept_id, 'pct': percentage})\n",
    "    \n",
    "    return cursor.rowcount"
   ]
  },
  {
   "cell_type": "markdown",
   "metadata": {},
   "source": [
    "### Question 5 (20 points)\n",
    "Write a function called `get_employee_project_info()` that returns information about employees and their projects. For each employee who has at least one Active project, return `(emp_id, full_name, dept_name, num_active_projects, total_active_budget)` where:\n",
    "- `full_name` is \"FirstName LastName\"\n",
    "- `num_active_projects` is the count of Active projects for that employee\n",
    "- `total_active_budget` is the sum of budgets for that employee's Active projects\n",
    "\n",
    "Order by `total_active_budget` descending. EXPLAIN EACH VALUE OF THE OUTPUT.\n",
    "\n",
    "Expected output: `[(15, 'John Smith', 'Engineering', 2, 450000), ...]`"
   ]
  },
  {
   "cell_type": "code",
   "execution_count": 13,
   "metadata": {},
   "outputs": [],
   "source": [
    "def get_employee_project_info():\n",
    "    \"\"\"Get employees with their active projects information\"\"\"\n",
    "    cursor.execute(\"\"\"\n",
    "        SELECT \n",
    "            e.emp_id,\n",
    "            e.first_name || ' ' || e.last_name as full_name,\n",
    "            d.dept_name,\n",
    "            COUNT(p.project_id) as num_active_projects,\n",
    "            SUM(p.budget) as total_active_budget\n",
    "        FROM employees e\n",
    "        JOIN departments d ON e.department_id = d.dept_id\n",
    "        JOIN projects p ON e.emp_id = p.emp_id\n",
    "        WHERE p.status = 'Active'\n",
    "        GROUP BY e.emp_id\n",
    "        ORDER BY total_active_budget DESC\n",
    "    \"\"\")\n",
    "    return cursor.fetchall()"
   ]
  },
  {
   "cell_type": "code",
   "execution_count": 14,
   "metadata": {},
   "outputs": [
    {
     "name": "stdout",
     "output_type": "stream",
     "text": [
      "\n",
      "=== Testing Question 1 ===\n",
      "Found 19 high earners\n",
      "First 3: [('Jeremy', 'Roberts', 149458), ('Joseph', 'Clark', 145647), ('Rita', 'Harrell', 141988)]\n",
      "\n",
      "=== Testing Question 2 ===\n",
      "Department averages:\n",
      "  ('Marketing', 'New York', 102252.18)\n",
      "  ('Engineering', 'San Francisco', 97688.46)\n",
      "  ('Sales', 'Chicago', 95977.58)\n",
      "  ('HR', 'Boston', 94323.0)\n",
      "  ('Finance', 'Seattle', 82374.6)\n",
      "\n",
      "=== Testing Question 3 ===\n",
      "Active projects summary: {'count': 9, 'total_budget': 2927712, 'avg_budget': 325301.33}\n",
      "\n",
      "=== Testing Question 4 ===\n",
      "Updated 13 employees\n",
      "Avg salary before: $97688.46, after: $107457.31\n",
      "\n",
      "=== Testing Question 5 ===\n",
      "Found 8 employees with active projects\n",
      "Top 3: [(44, 'Marie Parker', 'Sales', 2, 619198), (33, 'Wendy Rice', 'Engineering', 1, 488479), (16, 'Jesse Garcia', 'Marketing', 1, 470329)]\n"
     ]
    }
   ],
   "source": [
    "# ====================\n",
    "# TEST YOUR FUNCTIONS\n",
    "# ====================\n",
    "\n",
    "if __name__ == \"__main__\":\n",
    "    print(\"\\n=== Testing Question 1 ===\")\n",
    "    try:\n",
    "        result = get_high_earners()\n",
    "        print(f\"Found {len(result)} high earners\")\n",
    "        print(\"First 3:\", result[:3])\n",
    "    except Exception as e:\n",
    "        print(f\"Error: {e}\")\n",
    "    \n",
    "    print(\"\\n=== Testing Question 2 ===\")\n",
    "    try:\n",
    "        result = calculate_dept_avg_salary()\n",
    "        print(f\"Department averages:\")\n",
    "        for row in result:\n",
    "            print(f\"  {row}\")\n",
    "    except Exception as e:\n",
    "        print(f\"Error: {e}\")\n",
    "    \n",
    "    print(\"\\n=== Testing Question 3 ===\")\n",
    "    try:\n",
    "        result = get_project_summary('Active')\n",
    "        print(f\"Active projects summary: {result}\")\n",
    "    except Exception as e:\n",
    "        print(f\"Error: {e}\")\n",
    "    \n",
    "    print(\"\\n=== Testing Question 4 ===\")\n",
    "    try:\n",
    "        # Get initial average for dept 1\n",
    "        cursor.execute(\"SELECT AVG(salary) FROM employees WHERE department_id=1\")\n",
    "        before = cursor.fetchone()[0]\n",
    "        \n",
    "        count = update_salary_by_dept(1, 10)\n",
    "        \n",
    "        cursor.execute(\"SELECT AVG(salary) FROM employees WHERE department_id=1\")\n",
    "        after = cursor.fetchone()[0]\n",
    "        \n",
    "        print(f\"Updated {count} employees\")\n",
    "        print(f\"Avg salary before: ${before:.2f}, after: ${after:.2f}\")\n",
    "        \n",
    "        # Rollback to keep data consistent\n",
    "        conn.rollback()\n",
    "    except Exception as e:\n",
    "        print(f\"Error: {e}\")\n",
    "    \n",
    "    print(\"\\n=== Testing Question 5 ===\")\n",
    "    try:\n",
    "        result = get_employee_project_info()\n",
    "        print(f\"Found {len(result)} employees with active projects\")\n",
    "        print(\"Top 3:\", result[:3])\n",
    "    except Exception as e:\n",
    "        print(f\"Error: {e}\")\n",
    "    \n",
    "    # Close connection\n",
    "    conn.close()"
   ]
  }
 ],
 "metadata": {
  "kernelspec": {
   "display_name": "base",
   "language": "python",
   "name": "python3"
  },
  "language_info": {
   "codemirror_mode": {
    "name": "ipython",
    "version": 3
   },
   "file_extension": ".py",
   "mimetype": "text/x-python",
   "name": "python",
   "nbconvert_exporter": "python",
   "pygments_lexer": "ipython3",
   "version": "3.12.7"
  }
 },
 "nbformat": 4,
 "nbformat_minor": 2
}
