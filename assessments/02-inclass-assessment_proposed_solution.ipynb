{
 "cells": [
  {
   "cell_type": "code",
   "execution_count": 3,
   "id": "bd0e9596",
   "metadata": {},
   "outputs": [],
   "source": [
    "friendship = [\n",
    "    (100, 101, \"03/22/2025\"),\n",
    "    (100, 105, \"03/18/2024\")\n",
    "]\n",
    "\n",
    "unfriendship = [\n",
    "    (101, 100, \"03/23/2025\"),  # same pair as (100, 101)\n",
    "    (105, 106, \"02/22/2024\")   # no matching friendship -> ignore\n",
    "]\n",
    "# Expected Output\n",
    "# A Python list of tuples: List[Tuple[int, int, str, Union[str, Literal[\"ongoing\"]]]]\n",
    "\n",
    "#[\n",
    "#    (100, 101, \"03/22/2025\", \"03/23/2025\"),\n",
    "#    (100, 105, \"03/18/2024\", \"ongoing\")\n",
    "#]"
   ]
  },
  {
   "cell_type": "code",
   "execution_count": 1,
   "id": "ffb54ac5",
   "metadata": {},
   "outputs": [],
   "source": [
    "friendship_dict = {}"
   ]
  },
  {
   "cell_type": "code",
   "execution_count": 5,
   "id": "f5869e44",
   "metadata": {},
   "outputs": [],
   "source": [
    "\n",
    "for p1, p2, start_date in friendship:\n",
    "    # print(p1, p2, start_date)\n",
    "    key = tuple(sorted((p1, p2)))\n",
    "    friendship_dict[key] = {\"start_date\": start_date, \"end_date\": \"ongoing\"}"
   ]
  },
  {
   "cell_type": "code",
   "execution_count": 6,
   "id": "e9377930",
   "metadata": {},
   "outputs": [
    {
     "data": {
      "text/plain": [
       "{(100, 101): {'start_date': '03/22/2025', 'end_date': 'ongoing'},\n",
       " (100, 105): {'start_date': '03/18/2024', 'end_date': 'ongoing'}}"
      ]
     },
     "execution_count": 6,
     "metadata": {},
     "output_type": "execute_result"
    }
   ],
   "source": [
    "friendship_dict"
   ]
  },
  {
   "cell_type": "code",
   "execution_count": 7,
   "id": "92a48b7c",
   "metadata": {},
   "outputs": [],
   "source": [
    "for p1, p2, end_date in unfriendship:\n",
    "    key = tuple(sorted((p1, p2)))\n",
    "    if key in friendship_dict:\n",
    "        friendship_dict[key][\"end_date\"] = end_date"
   ]
  },
  {
   "cell_type": "code",
   "execution_count": 13,
   "id": "37c12310",
   "metadata": {},
   "outputs": [
    {
     "data": {
      "text/plain": [
       "{(100, 101): {'start_date': '03/22/2025', 'end_date': '03/23/2025'},\n",
       " (100, 105): {'start_date': '03/18/2024', 'end_date': 'ongoing'}}"
      ]
     },
     "execution_count": 13,
     "metadata": {},
     "output_type": "execute_result"
    }
   ],
   "source": [
    "friendship_dict"
   ]
  },
  {
   "cell_type": "code",
   "execution_count": 14,
   "id": "566a96dd",
   "metadata": {},
   "outputs": [],
   "source": [
    "result = list(friendship_dict.items())"
   ]
  },
  {
   "cell_type": "code",
   "execution_count": 15,
   "id": "f0a0c24f",
   "metadata": {},
   "outputs": [
    {
     "data": {
      "text/plain": [
       "[((100, 101), {'start_date': '03/22/2025', 'end_date': '03/23/2025'}),\n",
       " ((100, 105), {'start_date': '03/18/2024', 'end_date': 'ongoing'})]"
      ]
     },
     "execution_count": 15,
     "metadata": {},
     "output_type": "execute_result"
    }
   ],
   "source": [
    "result"
   ]
  },
  {
   "cell_type": "code",
   "execution_count": 11,
   "id": "8f414b5d",
   "metadata": {},
   "outputs": [],
   "source": [
    "results = []\n",
    "for (p1, p2), dates in friendship_dict.items():\n",
    "    results.append((p1, p2, dates[\"start_date\"], dates[\"end_date\"]))"
   ]
  },
  {
   "cell_type": "code",
   "execution_count": 12,
   "id": "dcfd6366",
   "metadata": {},
   "outputs": [
    {
     "data": {
      "text/plain": [
       "[(100, 101, '03/22/2025', '03/23/2025'), (100, 105, '03/18/2024', 'ongoing')]"
      ]
     },
     "execution_count": 12,
     "metadata": {},
     "output_type": "execute_result"
    }
   ],
   "source": [
    "results"
   ]
  }
 ],
 "metadata": {
  "kernelspec": {
   "display_name": "causal_ml_python",
   "language": "python",
   "name": "python3"
  },
  "language_info": {
   "codemirror_mode": {
    "name": "ipython",
    "version": 3
   },
   "file_extension": ".py",
   "mimetype": "text/x-python",
   "name": "python",
   "nbconvert_exporter": "python",
   "pygments_lexer": "ipython3",
   "version": "3.10.13"
  }
 },
 "nbformat": 4,
 "nbformat_minor": 5
}
