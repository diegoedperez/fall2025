{
 "cells": [
  {
   "cell_type": "markdown",
   "metadata": {},
   "source": [
    "# <center>ECON 725: Computer Programming and Data Management in Economics <a class=\"tocSkip\"></center>    \n",
    "# <center>Python - Web scraping <a class=\"tocSkip\"></center>"
   ]
  },
  {
   "cell_type": "markdown",
   "metadata": {
    "vscode": {
     "languageId": "plaintext"
    }
   },
   "source": [
    "## Learning Objectives\n",
    "<hr>\n",
    "\n",
    "- Understand the basics of web scraping\n",
    "- Learn how to use the `MechanicalSoup` library to scrape web pages.\n",
    "- Learn how to scrape data from a website using forms, and pagination.\n",
    "\n"
   ]
  },
  {
   "cell_type": "markdown",
   "metadata": {},
   "source": [
    "# Web scraping Basics\n",
    "\n",
    "This lecture is about on how to get \"cheap\" data, off the web and onto our computer. This is a very useful skill to have, as it allows us to collect data that is not available in a downloadable format.\n",
    "\n",
    "Web scraping is the process of extracting information from websites. It simulates the human browsing behavior to extract information from websites. The information is then converted into a structured format that can be further analyzed and stored in a database. There are two ways that web content gets rendered in a browser:\n",
    "\n",
    "1. Server-side rendering: The server sends the HTML content to the browser, which then renders the content.\n",
    "2. Client-side rendering: The server sends a minimal HTML content to the browser, which then executes JavaScript code to render the content.\n",
    "\n",
    "You can read [here](https://www.codeconquest.com/website/client-side-vs-server-side/) for more details (incluiding example scripts), but for the purposed of this lecture, we will focus on the following:\n",
    "\n",
    "### Server-side rendering\n",
    "\n",
    "* The scripts that “build” the website are not run on our computer, but rather on a host server that sends down all of the HTML code.\n",
    "E.g. Wikipedia tables are already populated with all of the information — numbers, dates, etc. — that we see in our browser.\n",
    "* In other words, the information that we see in our browser has already been processed by the host server.\n",
    "* You can think of this information being embeded directly in the webpage’s HTML.\n",
    "* **Webscraping challenges**: Finding the correct CSS (or Xpath) “selectors”. Iterating through dynamic webpages (e.g. “Next page” and “Show More” tabs).\n",
    "* Key concepts: CSS, Xpath, HTML\n",
    "\n",
    "### Client-side rendering\n",
    "* The website contains an empty template of HTML and CSS.\n",
    "E.g. It might contain a “skeleton” table without any values.\n",
    "* However, when we actually visit the page URL, our browser sends a request to the host server.\n",
    "* If everything is okay (e.g. our request is valid), then the server sends a response script, which our browser executes and uses to populate the HTML template with the specific information that we want.\n",
    "* **Webscraping challenges**: Finding the “API endpoints” can be tricky, since these are sometimes hidden from view.\n",
    "* Key concepts: APIs, API endpoints\n",
    "\n",
    "\n",
    "Over this lecture, we'll go over the server-side rendering, which is the most common type of rendering. However, I want to forewarn you that webscraping typically involves a fair bit of detective work. \n",
    "\n",
    "You will often have to adjust your steps according to the type of data you want, and the steps that worked on one website may not work on another. (Or even work on the same website a few months later). \n",
    "\n",
    "**All this is to say that webscraping involves as much art as it does science.**\n",
    "\n",
    "The good news is that both server-side and client-side websites allow for webscraping.1 If you can see it in your browser, you can scrape it!\n",
    "\n",
    "\n",
    "### Caveat: Ethical and legal considerations\n",
    "\n",
    "TLDR; Just because you can scrape it, doesn’t mean you should.\n",
    "\n",
    "It is currently legal (read more [here](https://en.wikipedia.org/wiki/HiQ_Labs_v._LinkedIn)) to scrape public websites, but there are some important caveats to keep in mind: it’s still important to realise that the tools we’ll be using over these next two lectures are very powerful. A computer can process commands much, much faster than we can ever type them up manually. It’s pretty easy to write up a function or program that can overwhelm a host server or application through the sheer weight of requests. Or, just as likely, the host server has built-in safeguards that will block you in case of a suspected malicious attack. So, be careful and nice when scraping websites 🙂.\n",
    "\n"
   ]
  },
  {
   "cell_type": "markdown",
   "metadata": {},
   "source": [
    "<hr>\n",
    "\n",
    "# MechanicalSoup \n",
    "\n",
    "### What is MechanicalSoup?\n",
    "\n",
    "[MechanicalSoup](https://mechanicalsoup.readthedocs.io/en/stable/) is a Python browser automation library built on top of `Requests` (for making HTTP requests) and `BeautifulSoup` (for parsing HTML). It acts as a headless browser, mimicking a browser's behavior without the need for a graphical user interface. This makes it lightweight and efficient compared to full-fledged browser automation tools.\n",
    "\n",
    "Here a simple example of using `MechanicalSoup` to open a webpage, print its title, and close the browser session:\n",
    "```python\n",
    "import mechanicalsoup\n",
    "\n",
    "browser = mechanicalsoup.StatefulBrowser()\n",
    "browser.open(\"https://example.com\")\n",
    "page = browser.get_current_page()\n",
    "print(page.title.text)\n",
    "browser.close()\n",
    "```"
   ]
  },
  {
   "cell_type": "markdown",
   "metadata": {},
   "source": [
    "### Why use MechanicalSoup for web scraping?\n",
    "\n",
    "`MechanicalSoup` provides some features that make it a valuable tool for web scraping:\n",
    "\n",
    "- Navigation\n",
    "- Form handling\n",
    "- Session management\n",
    "\n",
    "#### Navigation\n",
    "\n",
    "```python\n",
    "# Follow a link by its text\n",
    "browser.follow_link(\"Login\")\n",
    "\n",
    "# Follow a link by its URL\n",
    "browser.visit(\"https://example.com/next_page\")\n",
    "\n",
    "```\n",
    "\n",
    "#### Form handling\n",
    "\n",
    "```python\n",
    "from mechanicalsoup import Browser\n",
    "\n",
    "# Replace with the login URL you want\n",
    "browser = Browser()\n",
    "browser.open(\"https://old.reddit.com\")  # Example login form\n",
    "\n",
    "# Find the login form\n",
    "login_form = browser.select_form('form')  # Replace with specific form identifier if needed\n",
    "\n",
    "# Fill the form fields\n",
    "login_form[\"username\"] = \"your_username\"\n",
    "login_form[\"password\"] = \"your_password\"\n",
    "\n",
    "# Submit the form\n",
    "browser.submit_selected()\n",
    "\n",
    "# Access the response data (assuming successful login)\n",
    "response = browser.soup\n",
    "content = response.find(\"pre\").text\n",
    "print(content)  # This should print the form data submitted\n",
    "\n",
    "\n",
    "```\n",
    "\n",
    "#### Session management\n",
    "\n",
    "`MechanicalSoup` automatically manages cookies and other session information:\n",
    "\n",
    "```python\n",
    "# Access data from a protected page after login (session is maintained)\n",
    "content = browser.soup.find(\"div\", class_=\"protected_content\").text\n",
    "print(content)\n",
    "\n",
    "```"
   ]
  },
  {
   "cell_type": "markdown",
   "metadata": {},
   "source": [
    "`MechanicalSoup` is a powerful tool for web scraping, but it is not the only one. Other popular libraries include `Scrapy`, `Selenium`, and `BeautifulSoup`. Each has its own strengths and weaknesses, so it's important to choose the right tool for the job.\n",
    "\n",
    "#### MechanicalSoup vs. BeautifulSoup\n",
    "While both libraries are used for web scraping, `MechanicalSoup` and `BeautifulSoup` have distinct functionalities:\n",
    "\n",
    "- `BeautifulSoup`: This library specializes in parsing HTML content. It excels at identifying and extracting data from downloaded HTML code. However, it doesn't handle tasks like form submission, navigation, or session management.\n",
    "- `MechanicalSoup`: Built on top of `BeautifulSoup`, `MechanicalSoup` adds form handling, navigation, and session management functionalities. It allows you to interact with websites more dynamically by mimicking user behavior.\n",
    "If you simply need to extract data from downloaded HTML content, `BeautifulSoup` is sufficient.\n",
    "\n",
    "If your scraping task involves interacting with forms, navigating through pages, or maintaining sessions, `MechanicalSoup` is the better choice.\n",
    "\n",
    "\n",
    "#### MechanicalSoup vs. Selenium\n",
    "\n",
    "Another popular library for web scraping is `Selenium`, as it provides full-fledged browser automation. Here's a breakdown of the key differences between `Selenium` and `MechanicalSoup`:\n",
    "\n",
    "* Functionality\n",
    "\n",
    "    - `Selenium` can handle complex JavaScript, render pages with dynamic content, and automate browser interactions beyond scraping.\n",
    "    - `MechanicalSoup` focuses on scraping tasks and doesn't mimic advanced browser behavior.\n",
    "\n",
    "* Complexity\n",
    "    - `Selenium` has a steeper learning curve due to its comprehensive functionality.\n",
    "    - `MechanicalSoup` offers a simpler API, which makes it easier to learn and use for basic scraping tasks.\n",
    "\n",
    "* Performance\n",
    "    - `Selenium` is slower, and so may require more processing power due to its browser emulation capabilities.\n",
    "    - `MechanicalSoup` is generally faster for simpler tasks as it doesn't involve full browser rendering.\n",
    "\n",
    "\n",
    "If you need to handle advanced JavaScript or mimic complex browser interactions, `Selenium` is the way to go.\n",
    "\n",
    "For most basic scraping tasks, especially for static websites and those with straightforward forms and navigation, `MechanicalSoup` is a more efficient and lightweight option.\n",
    "\n",
    "<hr>"
   ]
  },
  {
   "cell_type": "markdown",
   "metadata": {},
   "source": [
    "### Getting Started with MechanicalSoup\n",
    "\n",
    "<br>\n",
    "\n",
    "<center>\n",
    "<div>\n",
    "<img src=\"https://raw.githack.com/DataSciEcon-Emory/fall2025/main/images/mechanical_soup.png\" width=\"400\"/>\n",
    "</div>\n",
    "</center>\n",
    "\n",
    "This topic material is based on the [scrapingbee.com](https://www.scrapingbee.com/blog/getting-started-with-mechanicalsoup/) blog and adapted for our purposes in the course.\n",
    "\n",
    "\n",
    "Let's start with a simple example on how to extract the title and the reference links of a webpage using `MechanicalSoup` using this link from [Wikipedia](https://en.wikipedia.org/wiki/Web_scraping). Of course, there's a lot of information that you can scrape from a Wikipedia page, but extracting just the title and the reference links should help you understand how to find HTML tags and how to extract data from deep within the HTML hierarchy of a page."
   ]
  },
  {
   "cell_type": "code",
   "execution_count": 1,
   "metadata": {},
   "outputs": [],
   "source": [
    "import mechanicalsoup"
   ]
  },
  {
   "cell_type": "code",
   "execution_count": 2,
   "metadata": {},
   "outputs": [
    {
     "data": {
      "text/plain": [
       "<Response [200]>"
      ]
     },
     "execution_count": 2,
     "metadata": {},
     "output_type": "execute_result"
    }
   ],
   "source": [
    "# Connect to the website\n",
    "browser = mechanicalsoup.StatefulBrowser(\n",
    "    user_agent='Mozilla/5.0 (Windows NT 10.0; Win64; x64) AppleWebKit/537.36 (KHTML, like Gecko) Chrome/120.0.0.0 Safari/537.36'\n",
    ")  \n",
    "browser.open(\"https://en.wikipedia.org/wiki/Web_scraping\")"
   ]
  },
  {
   "cell_type": "markdown",
   "metadata": {},
   "source": [
    "##### Extracting the title\n",
    "\n",
    "To extract the title, you first need to understand the structure of the Wikipedia page. Open the page in Google Chrome and press `F12` to open the developer tools. In the `Elements` tab, look for the HTML tag for the title of the page. Here's what it will look like:\n",
    "\n",
    "<div>\n",
    "<img src=\"https://www.scrapingbee.com/blog/getting-started-with-mechanicalsoup/page-title-html_hu17009774656312328514.png\" width=\"600\"/>\n",
    "</div>\n",
    "\n",
    "To get the title from the page, look for a `span` tag that has the class `mw-page-title-main`"
   ]
  },
  {
   "cell_type": "code",
   "execution_count": 5,
   "metadata": {},
   "outputs": [
    {
     "name": "stdout",
     "output_type": "stream",
     "text": [
      "title: Web scraping\n"
     ]
    }
   ],
   "source": [
    "title = browser.page.select_one('span.mw-page-title-main')\n",
    "print(\"title: \" + title.string)"
   ]
  },
  {
   "cell_type": "markdown",
   "metadata": {},
   "source": [
    "#### Extracting the reference links\n",
    "\n",
    "Next, you'll find and extract all the links from the references section of the web page. First, take a quick peek at the HTML structure of the References section by inspecting it with your browser's developer tools:\n",
    "\n",
    "<div>\n",
    "<img src=\"https://www.scrapingbee.com/blog/getting-started-with-mechanicalsoup/references-structure_hu4756474786081050296.png\" width=\"1000\"/>\n",
    "</div>\n",
    "\n",
    "\n",
    "First, select the ordered list (`ol`) tag that has the class references. With that tag selected, you can consider using the method `find_all` method to extract all links inside this `ol` tag. However, on a closer look, you'll find that this section also contains backlinks to places in the same Wikipedia page where each reference was cited:\n",
    "\n",
    "<div>\n",
    "<img src=\"https://www.scrapingbee.com/blog/getting-started-with-mechanicalsoup/backlinks_hu8625713131764143085.png\" width=\"1000\"/>\n",
    "</div>\n",
    "\n",
    "If you extract all links from this tag using the `find_all` function, the results will contain same-page backlinks too, which you don't need. To avoid that, you need to select all `reference-text` span tags and extract the links from them. "
   ]
  },
  {
   "cell_type": "code",
   "execution_count": 8,
   "metadata": {},
   "outputs": [
    {
     "data": {
      "text/plain": [
       "[<span class=\"reference-text\"><style data-mw-deduplicate=\"TemplateStyles:r1238218222\">.mw-parser-output cite.citation{font-style:inherit;word-wrap:break-word}.mw-parser-output .citation q{quotes:\"\\\"\"\"\\\"\"\"'\"\"'\"}.mw-parser-output .citation:target{background-color:rgba(0,127,255,0.133)}.mw-parser-output .id-lock-free.id-lock-free a{background:url(\"//upload.wikimedia.org/wikipedia/commons/6/65/Lock-green.svg\")right 0.1em center/9px no-repeat}.mw-parser-output .id-lock-limited.id-lock-limited a,.mw-parser-output .id-lock-registration.id-lock-registration a{background:url(\"//upload.wikimedia.org/wikipedia/commons/d/d6/Lock-gray-alt-2.svg\")right 0.1em center/9px no-repeat}.mw-parser-output .id-lock-subscription.id-lock-subscription a{background:url(\"//upload.wikimedia.org/wikipedia/commons/a/aa/Lock-red-alt-2.svg\")right 0.1em center/9px no-repeat}.mw-parser-output .cs1-ws-icon a{background:url(\"//upload.wikimedia.org/wikipedia/commons/4/4c/Wikisource-logo.svg\")right 0.1em center/12px no-repeat}body:not(.skin-timeless):not(.skin-minerva) .mw-parser-output .id-lock-free a,body:not(.skin-timeless):not(.skin-minerva) .mw-parser-output .id-lock-limited a,body:not(.skin-timeless):not(.skin-minerva) .mw-parser-output .id-lock-registration a,body:not(.skin-timeless):not(.skin-minerva) .mw-parser-output .id-lock-subscription a,body:not(.skin-timeless):not(.skin-minerva) .mw-parser-output .cs1-ws-icon a{background-size:contain;padding:0 1em 0 0}.mw-parser-output .cs1-code{color:inherit;background:inherit;border:none;padding:inherit}.mw-parser-output .cs1-hidden-error{display:none;color:var(--color-error,#d33)}.mw-parser-output .cs1-visible-error{color:var(--color-error,#d33)}.mw-parser-output .cs1-maint{display:none;color:#085;margin-left:0.3em}.mw-parser-output .cs1-kern-left{padding-left:0.2em}.mw-parser-output .cs1-kern-right{padding-right:0.2em}.mw-parser-output .citation .mw-selflink{font-weight:inherit}@media screen{.mw-parser-output .cs1-format{font-size:95%}html.skin-theme-clientpref-night .mw-parser-output .cs1-maint{color:#18911f}}@media screen and (prefers-color-scheme:dark){html.skin-theme-clientpref-os .mw-parser-output .cs1-maint{color:#18911f}}</style><cite class=\"citation journal cs1\" id=\"CITEREFThapeloNamosheMatsebeMotshegwa2021\">Thapelo, Tsaone Swaabow; Namoshe, Molaletsa; Matsebe, Oduetse; Motshegwa, Tshiamo; Bopape, Mary-Jane Morongwa (2021-07-28). <a class=\"external text\" href=\"https://doi.org/10.5334%2Fdsj-2021-024\" rel=\"nofollow\">\"SASSCAL WebSAPI: A Web Scraping Application Programming Interface to Support Access to SASSCAL's Weather Data\"</a>. <i>Data Science Journal</i>. <b>20</b>: 24. <a class=\"mw-redirect\" href=\"/wiki/Doi_(identifier)\" title=\"Doi (identifier)\">doi</a>:<span class=\"id-lock-free\" title=\"Freely accessible\"><a class=\"external text\" href=\"https://doi.org/10.5334%2Fdsj-2021-024\" rel=\"nofollow\">10.5334/dsj-2021-024</a></span>. <a class=\"mw-redirect\" href=\"/wiki/ISSN_(identifier)\" title=\"ISSN (identifier)\">ISSN</a> <a class=\"external text\" href=\"https://search.worldcat.org/issn/1683-1470\" rel=\"nofollow\">1683-1470</a>. <a class=\"mw-redirect\" href=\"/wiki/S2CID_(identifier)\" title=\"S2CID (identifier)\">S2CID</a> <a class=\"external text\" href=\"https://api.semanticscholar.org/CorpusID:237719804\" rel=\"nofollow\">237719804</a>.</cite><span class=\"Z3988\" title=\"ctx_ver=Z39.88-2004&amp;rft_val_fmt=info%3Aofi%2Ffmt%3Akev%3Amtx%3Ajournal&amp;rft.genre=article&amp;rft.jtitle=Data+Science+Journal&amp;rft.atitle=SASSCAL+WebSAPI%3A+A+Web+Scraping+Application+Programming+Interface+to+Support+Access+to+SASSCAL%27s+Weather+Data&amp;rft.volume=20&amp;rft.pages=24&amp;rft.date=2021-07-28&amp;rft_id=https%3A%2F%2Fapi.semanticscholar.org%2FCorpusID%3A237719804%23id-name%3DS2CID&amp;rft.issn=1683-1470&amp;rft_id=info%3Adoi%2F10.5334%2Fdsj-2021-024&amp;rft.aulast=Thapelo&amp;rft.aufirst=Tsaone+Swaabow&amp;rft.au=Namoshe%2C+Molaletsa&amp;rft.au=Matsebe%2C+Oduetse&amp;rft.au=Motshegwa%2C+Tshiamo&amp;rft.au=Bopape%2C+Mary-Jane+Morongwa&amp;rft_id=https%3A%2F%2Fdoi.org%2F10.5334%252Fdsj-2021-024&amp;rfr_id=info%3Asid%2Fen.wikipedia.org%3AWeb+scraping\"></span></span>,\n",
       " <span class=\"reference-text\"><link href=\"mw-data:TemplateStyles:r1238218222\" rel=\"mw-deduplicated-inline-style\"/><cite class=\"citation web cs1\"><a class=\"external text\" href=\"http://www.searchenginehistory.com/\" rel=\"nofollow\">\"Search Engine History.com\"</a>. <i>Search Engine History</i><span class=\"reference-accessdate\">. Retrieved <span class=\"nowrap\">November 26,</span> 2019</span>.</cite><span class=\"Z3988\" title=\"ctx_ver=Z39.88-2004&amp;rft_val_fmt=info%3Aofi%2Ffmt%3Akev%3Amtx%3Ajournal&amp;rft.genre=unknown&amp;rft.jtitle=Search+Engine+History&amp;rft.atitle=Search+Engine+History.com&amp;rft_id=http%3A%2F%2Fwww.searchenginehistory.com%2F&amp;rfr_id=info%3Asid%2Fen.wikipedia.org%3AWeb+scraping\"></span></span>,\n",
       " <span class=\"reference-text\"><link href=\"mw-data:TemplateStyles:r1238218222\" rel=\"mw-deduplicated-inline-style\"/><cite class=\"citation web cs1\"><a class=\"external text\" href=\"https://thehistoryoftheweb.com/ebay-apis-connected-web/\" rel=\"nofollow\">\"eBay, API's, and the Connected Web\"</a>. <i>THE HISTORY OF THE WEB</i><span class=\"reference-accessdate\">. Retrieved <span class=\"nowrap\">June 23,</span> 2025</span>.</cite><span class=\"Z3988\" title=\"ctx_ver=Z39.88-2004&amp;rft_val_fmt=info%3Aofi%2Ffmt%3Akev%3Amtx%3Ajournal&amp;rft.genre=unknown&amp;rft.jtitle=THE+HISTORY+OF+THE+WEB&amp;rft.atitle=eBay%2C+API%E2%80%99s%2C+and+the+Connected+Web&amp;rft_id=https%3A%2F%2Fthehistoryoftheweb.com%2Febay-apis-connected-web%2F&amp;rfr_id=info%3Asid%2Fen.wikipedia.org%3AWeb+scraping\"></span></span>,\n",
       " <span class=\"reference-text\"><link href=\"mw-data:TemplateStyles:r1238218222\" rel=\"mw-deduplicated-inline-style\"/><cite class=\"citation book cs1\" id=\"CITEREFSongMicrosoft_Research2007\">Song, Ruihua; Microsoft Research (Sep 14, 2007). <a class=\"external text\" href=\"https://web.archive.org/web/20161011080619/https://pdfs.semanticscholar.org/4fb4/3c5a212df751e84c3b2f8d29fabfe56c3616.pdf\" rel=\"nofollow\">\"Joint optimization of wrapper generation and template detection\"</a> <span class=\"cs1-format\">(PDF)</span>. <i>Proceedings of the 13th ACM SIGKDD international conference on Knowledge discovery and data mining</i>. p. 894. <a class=\"mw-redirect\" href=\"/wiki/Doi_(identifier)\" title=\"Doi (identifier)\">doi</a>:<a class=\"external text\" href=\"https://doi.org/10.1145%2F1281192.1281287\" rel=\"nofollow\">10.1145/1281192.1281287</a>. <a class=\"mw-redirect\" href=\"/wiki/ISBN_(identifier)\" title=\"ISBN (identifier)\">ISBN</a> <a href=\"/wiki/Special:BookSources/9781595936097\" title=\"Special:BookSources/9781595936097\"><bdi>9781595936097</bdi></a>. <a class=\"mw-redirect\" href=\"/wiki/S2CID_(identifier)\" title=\"S2CID (identifier)\">S2CID</a> <a class=\"external text\" href=\"https://api.semanticscholar.org/CorpusID:833565\" rel=\"nofollow\">833565</a>. Archived from <a class=\"external text\" href=\"https://pdfs.semanticscholar.org/4fb4/3c5a212df751e84c3b2f8d29fabfe56c3616.pdf\" rel=\"nofollow\">the original</a> <span class=\"cs1-format\">(PDF)</span> on October 11, 2016.</cite><span class=\"Z3988\" title=\"ctx_ver=Z39.88-2004&amp;rft_val_fmt=info%3Aofi%2Ffmt%3Akev%3Amtx%3Abook&amp;rft.genre=bookitem&amp;rft.atitle=Joint+optimization+of+wrapper+generation+and+template+detection&amp;rft.btitle=Proceedings+of+the+13th+ACM+SIGKDD+international+conference+on+Knowledge+discovery+and+data+mining&amp;rft.pages=894&amp;rft.date=2007-09-14&amp;rft_id=https%3A%2F%2Fapi.semanticscholar.org%2FCorpusID%3A833565%23id-name%3DS2CID&amp;rft_id=info%3Adoi%2F10.1145%2F1281192.1281287&amp;rft.isbn=9781595936097&amp;rft.aulast=Song&amp;rft.aufirst=Ruihua&amp;rft.au=Microsoft+Research&amp;rft_id=https%3A%2F%2Fpdfs.semanticscholar.org%2F4fb4%2F3c5a212df751e84c3b2f8d29fabfe56c3616.pdf&amp;rfr_id=info%3Asid%2Fen.wikipedia.org%3AWeb+scraping\"></span></span>,\n",
       " <span class=\"reference-text\"><a class=\"external text\" href=\"http://www.gooseeker.com/en/node/knowledgebase/freeformat\" rel=\"nofollow\">Semantic annotation based web scraping</a></span>,\n",
       " <span class=\"reference-text\"><link href=\"mw-data:TemplateStyles:r1238218222\" rel=\"mw-deduplicated-inline-style\"/><cite class=\"citation web cs1\" id=\"CITEREFRoush2012\">Roush, Wade (2012-07-25). <a class=\"external text\" href=\"http://www.xconomy.com/san-francisco/2012/07/25/diffbot-is-using-computer-vision-to-reinvent-the-semantic-web/\" rel=\"nofollow\">\"Diffbot Is Using Computer Vision to Reinvent the Semantic Web\"</a>. www.xconomy.com<span class=\"reference-accessdate\">. Retrieved <span class=\"nowrap\">2013-03-15</span></span>.</cite><span class=\"Z3988\" title=\"ctx_ver=Z39.88-2004&amp;rft_val_fmt=info%3Aofi%2Ffmt%3Akev%3Amtx%3Abook&amp;rft.genre=unknown&amp;rft.btitle=Diffbot+Is+Using+Computer+Vision+to+Reinvent+the+Semantic+Web&amp;rft.pub=www.xconomy.com&amp;rft.date=2012-07-25&amp;rft.aulast=Roush&amp;rft.aufirst=Wade&amp;rft_id=http%3A%2F%2Fwww.xconomy.com%2Fsan-francisco%2F2012%2F07%2F25%2Fdiffbot-is-using-computer-vision-to-reinvent-the-semantic-web%2F&amp;rfr_id=info%3Asid%2Fen.wikipedia.org%3AWeb+scraping\"></span></span>,\n",
       " <span class=\"reference-text\"><link href=\"mw-data:TemplateStyles:r1238218222\" rel=\"mw-deduplicated-inline-style\"/><cite class=\"citation web cs1\"><a class=\"external text\" href=\"https://web.archive.org/web/20020308222536/http://www.chillingeffects.org/linking/faq.cgi#QID596\" rel=\"nofollow\">\"FAQ about linking – Are website terms of use binding contracts?\"</a>. www.chillingeffects.org. 2007-08-20. Archived from <a class=\"external text\" href=\"http://www.chillingeffects.org/linking/faq.cgi#QID596\" rel=\"nofollow\">the original</a> on 2002-03-08<span class=\"reference-accessdate\">. Retrieved <span class=\"nowrap\">2007-08-20</span></span>.</cite><span class=\"Z3988\" title=\"ctx_ver=Z39.88-2004&amp;rft_val_fmt=info%3Aofi%2Ffmt%3Akev%3Amtx%3Abook&amp;rft.genre=unknown&amp;rft.btitle=FAQ+about+linking+%E2%80%93+Are+website+terms+of+use+binding+contracts%3F&amp;rft.pub=www.chillingeffects.org&amp;rft.date=2007-08-20&amp;rft_id=http%3A%2F%2Fwww.chillingeffects.org%2Flinking%2Ffaq.cgi%23QID596&amp;rfr_id=info%3Asid%2Fen.wikipedia.org%3AWeb+scraping\"></span></span>,\n",
       " <span class=\"reference-text\"><link href=\"mw-data:TemplateStyles:r1238218222\" rel=\"mw-deduplicated-inline-style\"/><cite class=\"citation journal cs1\" id=\"CITEREFKenneth2014\">Kenneth, Hirschey, Jeffrey (2014-01-01). <a class=\"external text\" href=\"http://scholarship.law.berkeley.edu/btlj/vol29/iss4/16/\" rel=\"nofollow\">\"Symbiotic Relationships: Pragmatic Acceptance of Data Scraping\"</a>. <i>Berkeley Technology Law Journal</i>. <b>29</b> (4). <a class=\"mw-redirect\" href=\"/wiki/Doi_(identifier)\" title=\"Doi (identifier)\">doi</a>:<a class=\"external text\" href=\"https://doi.org/10.15779%2FZ38B39B\" rel=\"nofollow\">10.15779/Z38B39B</a>. <a class=\"mw-redirect\" href=\"/wiki/ISSN_(identifier)\" title=\"ISSN (identifier)\">ISSN</a> <a class=\"external text\" href=\"https://search.worldcat.org/issn/1086-3818\" rel=\"nofollow\">1086-3818</a>.</cite><span class=\"Z3988\" title=\"ctx_ver=Z39.88-2004&amp;rft_val_fmt=info%3Aofi%2Ffmt%3Akev%3Amtx%3Ajournal&amp;rft.genre=article&amp;rft.jtitle=Berkeley+Technology+Law+Journal&amp;rft.atitle=Symbiotic+Relationships%3A+Pragmatic+Acceptance+of+Data+Scraping&amp;rft.volume=29&amp;rft.issue=4&amp;rft.date=2014-01-01&amp;rft_id=info%3Adoi%2F10.15779%2FZ38B39B&amp;rft.issn=1086-3818&amp;rft.aulast=Kenneth&amp;rft.aufirst=Hirschey%2C+Jeffrey&amp;rft_id=http%3A%2F%2Fscholarship.law.berkeley.edu%2Fbtlj%2Fvol29%2Fiss4%2F16%2F&amp;rfr_id=info%3Asid%2Fen.wikipedia.org%3AWeb+scraping\"></span><span class=\"cs1-maint citation-comment\"><code class=\"cs1-code\">{{<a href=\"/wiki/Template:Cite_journal\" title=\"Template:Cite journal\">cite journal</a>}}</code>:  CS1 maint: multiple names: authors list (<a href=\"/wiki/Category:CS1_maint:_multiple_names:_authors_list\" title=\"Category:CS1 maint: multiple names: authors list\">link</a>)</span></span>,\n",
       " <span class=\"reference-text\"><link href=\"mw-data:TemplateStyles:r1238218222\" rel=\"mw-deduplicated-inline-style\"/><cite class=\"citation web cs1\"><a class=\"external text\" href=\"http://www.tomwbell.com/NetLaw/Ch06.html\" rel=\"nofollow\">\"Internet Law, Ch. 06: Trespass to Chattels\"</a>. www.tomwbell.com. 2007-08-20<span class=\"reference-accessdate\">. Retrieved <span class=\"nowrap\">2007-08-20</span></span>.</cite><span class=\"Z3988\" title=\"ctx_ver=Z39.88-2004&amp;rft_val_fmt=info%3Aofi%2Ffmt%3Akev%3Amtx%3Abook&amp;rft.genre=unknown&amp;rft.btitle=Internet+Law%2C+Ch.+06%3A+Trespass+to+Chattels&amp;rft.pub=www.tomwbell.com&amp;rft.date=2007-08-20&amp;rft_id=http%3A%2F%2Fwww.tomwbell.com%2FNetLaw%2FCh06.html&amp;rfr_id=info%3Asid%2Fen.wikipedia.org%3AWeb+scraping\"></span></span>,\n",
       " <span class=\"reference-text\"><link href=\"mw-data:TemplateStyles:r1238218222\" rel=\"mw-deduplicated-inline-style\"/><cite class=\"citation web cs1\"><a class=\"external text\" href=\"https://web.archive.org/web/20020308222536/http://www.chillingeffects.org/linking/faq.cgi#QID460\" rel=\"nofollow\">\"What are the \"trespass to chattels\" claims some companies or website owners have brought?\"</a>. www.chillingeffects.org. 2007-08-20. Archived from <a class=\"external text\" href=\"http://www.chillingeffects.org/linking/faq.cgi#QID460\" rel=\"nofollow\">the original</a> on 2002-03-08<span class=\"reference-accessdate\">. Retrieved <span class=\"nowrap\">2007-08-20</span></span>.</cite><span class=\"Z3988\" title=\"ctx_ver=Z39.88-2004&amp;rft_val_fmt=info%3Aofi%2Ffmt%3Akev%3Amtx%3Abook&amp;rft.genre=unknown&amp;rft.btitle=What+are+the+%22trespass+to+chattels%22+claims+some+companies+or+website+owners+have+brought%3F&amp;rft.pub=www.chillingeffects.org&amp;rft.date=2007-08-20&amp;rft_id=http%3A%2F%2Fwww.chillingeffects.org%2Flinking%2Ffaq.cgi%23QID460&amp;rfr_id=info%3Asid%2Fen.wikipedia.org%3AWeb+scraping\"></span></span>,\n",
       " <span class=\"reference-text\"><link href=\"mw-data:TemplateStyles:r1238218222\" rel=\"mw-deduplicated-inline-style\"/><cite class=\"citation web cs1\"><a class=\"external text\" href=\"http://www.tomwbell.com/NetLaw/Ch07/Ticketmaster.html\" rel=\"nofollow\">\"Ticketmaster Corp. v. Tickets.com, Inc\"</a>. 2007-08-20<span class=\"reference-accessdate\">. Retrieved <span class=\"nowrap\">2007-08-20</span></span>.</cite><span class=\"Z3988\" title=\"ctx_ver=Z39.88-2004&amp;rft_val_fmt=info%3Aofi%2Ffmt%3Akev%3Amtx%3Abook&amp;rft.genre=unknown&amp;rft.btitle=Ticketmaster+Corp.+v.+Tickets.com%2C+Inc.&amp;rft.date=2007-08-20&amp;rft_id=http%3A%2F%2Fwww.tomwbell.com%2FNetLaw%2FCh07%2FTicketmaster.html&amp;rfr_id=info%3Asid%2Fen.wikipedia.org%3AWeb+scraping\"></span></span>,\n",
       " <span class=\"reference-text\"><link href=\"mw-data:TemplateStyles:r1238218222\" rel=\"mw-deduplicated-inline-style\"/><cite class=\"citation web cs1\"><a class=\"external text\" href=\"https://web.archive.org/web/20110723131832/http://www.fornova.net/documents/AAFareChase.pdf\" rel=\"nofollow\">\"American Airlines v. FareChase\"</a> <span class=\"cs1-format\">(PDF)</span>. 2007-08-20. Archived from <a class=\"external text\" href=\"http://www.fornova.net/documents/AAFareChase.pdf\" rel=\"nofollow\">the original</a> <span class=\"cs1-format\">(PDF)</span> on 2011-07-23<span class=\"reference-accessdate\">. Retrieved <span class=\"nowrap\">2007-08-20</span></span>.</cite><span class=\"Z3988\" title=\"ctx_ver=Z39.88-2004&amp;rft_val_fmt=info%3Aofi%2Ffmt%3Akev%3Amtx%3Abook&amp;rft.genre=unknown&amp;rft.btitle=American+Airlines+v.+FareChase&amp;rft.date=2007-08-20&amp;rft_id=http%3A%2F%2Fwww.fornova.net%2Fdocuments%2FAAFareChase.pdf&amp;rfr_id=info%3Asid%2Fen.wikipedia.org%3AWeb+scraping\"></span></span>,\n",
       " <span class=\"reference-text\"><link href=\"mw-data:TemplateStyles:r1238218222\" rel=\"mw-deduplicated-inline-style\"/><cite class=\"citation web cs1\"><a class=\"external text\" href=\"https://web.archive.org/web/20160305025808/http://www.thefreelibrary.com/American+Airlines,+FareChase+Settle+Suit.-a0103213546\" rel=\"nofollow\">\"American Airlines, FareChase Settle Suit\"</a>. The Free Library. 2003-06-13. Archived from <a class=\"external text\" href=\"http://www.thefreelibrary.com/American+Airlines,+FareChase+Settle+Suit.-a0103213546\" rel=\"nofollow\">the original</a> on 2016-03-05<span class=\"reference-accessdate\">. Retrieved <span class=\"nowrap\">2012-02-26</span></span>.</cite><span class=\"Z3988\" title=\"ctx_ver=Z39.88-2004&amp;rft_val_fmt=info%3Aofi%2Ffmt%3Akev%3Amtx%3Abook&amp;rft.genre=unknown&amp;rft.btitle=American+Airlines%2C+FareChase+Settle+Suit.&amp;rft.pub=The+Free+Library&amp;rft.date=2003-06-13&amp;rft_id=http%3A%2F%2Fwww.thefreelibrary.com%2FAmerican%2BAirlines%2C%2BFareChase%2BSettle%2BSuit.-a0103213546&amp;rfr_id=info%3Asid%2Fen.wikipedia.org%3AWeb+scraping\"></span></span>,\n",
       " <span class=\"reference-text\">Imperva (2011). <a class=\"external text\" href=\"http://www.imperva.com/docs/WP_Detecting_and_Blocking_Site_Scraping_Attacks.pdf\" rel=\"nofollow\">Detecting and Blocking Site Scraping Attacks</a>. Imperva white paper.</span>,\n",
       " <span class=\"reference-text\"><link href=\"mw-data:TemplateStyles:r1238218222\" rel=\"mw-deduplicated-inline-style\"/><cite class=\"citation web cs1\" id=\"CITEREFAdler2003\">Adler, Kenneth A. (2003-07-29). <a class=\"external text\" href=\"https://web.archive.org/web/20110211123854/http://library.findlaw.com/2003/Jul/29/132944.html\" rel=\"nofollow\">\"Controversy Surrounds 'Screen Scrapers': Software Helps Users Access Web Sites But Activity by Competitors Comes Under Scrutiny\"</a>. Archived from <a class=\"external text\" href=\"http://library.findlaw.com/2003/Jul/29/132944.html\" rel=\"nofollow\">the original</a> on 2011-02-11<span class=\"reference-accessdate\">. Retrieved <span class=\"nowrap\">2010-10-27</span></span>.</cite><span class=\"Z3988\" title=\"ctx_ver=Z39.88-2004&amp;rft_val_fmt=info%3Aofi%2Ffmt%3Akev%3Amtx%3Abook&amp;rft.genre=unknown&amp;rft.btitle=Controversy+Surrounds+%27Screen+Scrapers%27%3A+Software+Helps+Users+Access+Web+Sites+But+Activity+by+Competitors+Comes+Under+Scrutiny&amp;rft.date=2003-07-29&amp;rft.aulast=Adler&amp;rft.aufirst=Kenneth+A.&amp;rft_id=http%3A%2F%2Flibrary.findlaw.com%2F2003%2FJul%2F29%2F132944.html&amp;rfr_id=info%3Asid%2Fen.wikipedia.org%3AWeb+scraping\"></span></span>,\n",
       " <span class=\"reference-text\"><link href=\"mw-data:TemplateStyles:r1238218222\" rel=\"mw-deduplicated-inline-style\"/><cite class=\"citation web cs1\"><a class=\"external text\" href=\"https://web.archive.org/web/20130921054619/http://www.fornova.net/documents/Cvent.pdf\" rel=\"nofollow\">\"CVENT, Inc. v. Eventbrite, Inc.,et al\"</a> <span class=\"cs1-format\">(PDF)</span>. 2014-11-24. Archived from <a class=\"external text\" href=\"http://www.fornova.net/documents/Cvent.pdf\" rel=\"nofollow\">the original</a> <span class=\"cs1-format\">(PDF)</span> on 2013-09-21<span class=\"reference-accessdate\">. Retrieved <span class=\"nowrap\">2015-11-05</span></span>.</cite><span class=\"Z3988\" title=\"ctx_ver=Z39.88-2004&amp;rft_val_fmt=info%3Aofi%2Ffmt%3Akev%3Amtx%3Abook&amp;rft.genre=unknown&amp;rft.btitle=CVENT%2C+Inc.+v.+Eventbrite%2C+Inc.%2Cet+al&amp;rft.date=2014-11-24&amp;rft_id=http%3A%2F%2Fwww.fornova.net%2Fdocuments%2FCvent.pdf&amp;rfr_id=info%3Asid%2Fen.wikipedia.org%3AWeb+scraping\"></span></span>,\n",
       " <span class=\"reference-text\"><link href=\"mw-data:TemplateStyles:r1238218222\" rel=\"mw-deduplicated-inline-style\"/><cite class=\"citation web cs1\"><a class=\"external text\" href=\"https://www.scribd.com/doc/249068700/LinkedIn-v-Resultly-LLC-Complaint?secret_password=pEVKDbnvhQL52oKfdrmT\" rel=\"nofollow\">\"QVC Inc. v. Resultly LLC, No. 14-06714 (E.D. Pa. filed Nov. 24, 2014)\"</a>. <i>United States District Court for the Eastern District of Pennsylvania</i><span class=\"reference-accessdate\">. Retrieved <span class=\"nowrap\">5 November</span> 2015</span>.</cite><span class=\"Z3988\" title=\"ctx_ver=Z39.88-2004&amp;rft_val_fmt=info%3Aofi%2Ffmt%3Akev%3Amtx%3Ajournal&amp;rft.genre=unknown&amp;rft.jtitle=United+States+District+Court+for+the+Eastern+District+of+Pennsylvania&amp;rft.atitle=QVC+Inc.+v.+Resultly+LLC%2C+No.+14-06714+%28E.D.+Pa.+filed+Nov.+24%2C+2014%29&amp;rft_id=https%3A%2F%2Fwww.scribd.com%2Fdoc%2F249068700%2FLinkedIn-v-Resultly-LLC-Complaint%3Fsecret_password%3DpEVKDbnvhQL52oKfdrmT&amp;rfr_id=info%3Asid%2Fen.wikipedia.org%3AWeb+scraping\"></span></span>,\n",
       " <span class=\"reference-text\"><link href=\"mw-data:TemplateStyles:r1238218222\" rel=\"mw-deduplicated-inline-style\"/><cite class=\"citation journal cs1\" id=\"CITEREFNeuburger2014\">Neuburger, Jeffrey D (5 December 2014). <a class=\"external text\" href=\"http://newmedialaw.proskauer.com/2014/12/05/qvc-sues-shopping-app-for-web-scraping-that-allegedly-triggered-site-outage/\" rel=\"nofollow\">\"QVC Sues Shopping App for Web Scraping That Allegedly Triggered Site Outage\"</a>. <i>The National Law Review</i>. Proskauer Rose LLP<span class=\"reference-accessdate\">. Retrieved <span class=\"nowrap\">5 November</span> 2015</span>.</cite><span class=\"Z3988\" title=\"ctx_ver=Z39.88-2004&amp;rft_val_fmt=info%3Aofi%2Ffmt%3Akev%3Amtx%3Ajournal&amp;rft.genre=article&amp;rft.jtitle=The+National+Law+Review&amp;rft.atitle=QVC+Sues+Shopping+App+for+Web+Scraping+That+Allegedly+Triggered+Site+Outage&amp;rft.date=2014-12-05&amp;rft.aulast=Neuburger&amp;rft.aufirst=Jeffrey+D&amp;rft_id=http%3A%2F%2Fnewmedialaw.proskauer.com%2F2014%2F12%2F05%2Fqvc-sues-shopping-app-for-web-scraping-that-allegedly-triggered-site-outage%2F&amp;rfr_id=info%3Asid%2Fen.wikipedia.org%3AWeb+scraping\"></span></span>,\n",
       " <span class=\"reference-text\"><link href=\"mw-data:TemplateStyles:r1238218222\" rel=\"mw-deduplicated-inline-style\"/><cite class=\"citation web cs1\"><a class=\"external text\" href=\"https://web.archive.org/web/20110723132015/http://www.fornova.net/documents/pblog-bna-com.pdf\" rel=\"nofollow\">\"Did Iqbal/Twombly Raise the Bar for Browsewrap Claims?\"</a> <span class=\"cs1-format\">(PDF)</span>. 2010-09-17. Archived from <a class=\"external text\" href=\"http://www.fornova.net/documents/pblog-bna-com.pdf\" rel=\"nofollow\">the original</a> <span class=\"cs1-format\">(PDF)</span> on 2011-07-23<span class=\"reference-accessdate\">. Retrieved <span class=\"nowrap\">2010-10-27</span></span>.</cite><span class=\"Z3988\" title=\"ctx_ver=Z39.88-2004&amp;rft_val_fmt=info%3Aofi%2Ffmt%3Akev%3Amtx%3Abook&amp;rft.genre=unknown&amp;rft.btitle=Did+Iqbal%2FTwombly+Raise+the+Bar+for+Browsewrap+Claims%3F&amp;rft.date=2010-09-17&amp;rft_id=http%3A%2F%2Fwww.fornova.net%2Fdocuments%2Fpblog-bna-com.pdf&amp;rfr_id=info%3Asid%2Fen.wikipedia.org%3AWeb+scraping\"></span></span>,\n",
       " <span class=\"reference-text\"><link href=\"mw-data:TemplateStyles:r1238218222\" rel=\"mw-deduplicated-inline-style\"/><cite class=\"citation web cs1\"><a class=\"external text\" href=\"https://www.techdirt.com/articles/20090605/2228205147.shtml\" rel=\"nofollow\">\"Can Scraping Non-Infringing Content Become Copyright Infringement... Because Of How Scrapers Work? | Techdirt\"</a>. <i>Techdirt</i>. 2009-06-10<span class=\"reference-accessdate\">. Retrieved <span class=\"nowrap\">2016-05-24</span></span>.</cite><span class=\"Z3988\" title=\"ctx_ver=Z39.88-2004&amp;rft_val_fmt=info%3Aofi%2Ffmt%3Akev%3Amtx%3Ajournal&amp;rft.genre=unknown&amp;rft.jtitle=Techdirt.&amp;rft.atitle=Can+Scraping+Non-Infringing+Content+Become+Copyright+Infringement...+Because+Of+How+Scrapers+Work%3F+%7C+Techdirt&amp;rft.date=2009-06-10&amp;rft_id=https%3A%2F%2Fwww.techdirt.com%2Farticles%2F20090605%2F2228205147.shtml&amp;rfr_id=info%3Asid%2Fen.wikipedia.org%3AWeb+scraping\"></span></span>,\n",
       " <span class=\"reference-text\"><link href=\"mw-data:TemplateStyles:r1238218222\" rel=\"mw-deduplicated-inline-style\"/><cite class=\"citation web cs1\"><a class=\"external text\" href=\"https://www.eff.org/cases/facebook-v-power-ventures\" rel=\"nofollow\">\"Facebook v. Power Ventures\"</a>. <i>Electronic Frontier Foundation</i>. July 2011<span class=\"reference-accessdate\">. Retrieved <span class=\"nowrap\">2016-05-24</span></span>.</cite><span class=\"Z3988\" title=\"ctx_ver=Z39.88-2004&amp;rft_val_fmt=info%3Aofi%2Ffmt%3Akev%3Amtx%3Ajournal&amp;rft.genre=unknown&amp;rft.jtitle=Electronic+Frontier+Foundation&amp;rft.atitle=Facebook+v.+Power+Ventures&amp;rft.date=2011-07&amp;rft_id=https%3A%2F%2Fwww.eff.org%2Fcases%2Ffacebook-v-power-ventures&amp;rfr_id=info%3Asid%2Fen.wikipedia.org%3AWeb+scraping\"></span></span>,\n",
       " <span class=\"reference-text\"><link href=\"mw-data:TemplateStyles:r1238218222\" rel=\"mw-deduplicated-inline-style\"/><cite class=\"citation web cs1\" id=\"CITEREFChung2021\">Chung, Andrew (June 14, 2021). <a class=\"external text\" href=\"https://www.reuters.com/technology/us-supreme-court-revives-linkedin-bid-shield-personal-data-2021-06-14/\" rel=\"nofollow\">\"U.S. Supreme Court revives LinkedIn bid to shield personal data\"</a>. <a href=\"/wiki/Reuters\" title=\"Reuters\">Reuters</a><span class=\"reference-accessdate\">. Retrieved <span class=\"nowrap\">June 14,</span> 2021</span>.</cite><span class=\"Z3988\" title=\"ctx_ver=Z39.88-2004&amp;rft_val_fmt=info%3Aofi%2Ffmt%3Akev%3Amtx%3Abook&amp;rft.genre=unknown&amp;rft.btitle=U.S.+Supreme+Court+revives+LinkedIn+bid+to+shield+personal+data&amp;rft.pub=Reuters&amp;rft.date=2021-06-14&amp;rft.aulast=Chung&amp;rft.aufirst=Andrew&amp;rft_id=https%3A%2F%2Fwww.reuters.com%2Ftechnology%2Fus-supreme-court-revives-linkedin-bid-shield-personal-data-2021-06-14%2F&amp;rfr_id=info%3Asid%2Fen.wikipedia.org%3AWeb+scraping\"></span></span>,\n",
       " <span class=\"reference-text\"><link href=\"mw-data:TemplateStyles:r1238218222\" rel=\"mw-deduplicated-inline-style\"/><cite class=\"citation web cs1\" id=\"CITEREFWhittaker2022\">Whittaker, Zack (18 April 2022). <a class=\"external text\" href=\"https://techcrunch.com/2022/04/18/web-scraping-legal-court/\" rel=\"nofollow\">\"Web scraping is legal, US appeals court reaffirms\"</a>. <i>TechCrunch</i>.</cite><span class=\"Z3988\" title=\"ctx_ver=Z39.88-2004&amp;rft_val_fmt=info%3Aofi%2Ffmt%3Akev%3Amtx%3Ajournal&amp;rft.genre=unknown&amp;rft.jtitle=TechCrunch&amp;rft.atitle=Web+scraping+is+legal%2C+US+appeals+court+reaffirms&amp;rft.date=2022-04-18&amp;rft.aulast=Whittaker&amp;rft.aufirst=Zack&amp;rft_id=https%3A%2F%2Ftechcrunch.com%2F2022%2F04%2F18%2Fweb-scraping-legal-court%2F&amp;rfr_id=info%3Asid%2Fen.wikipedia.org%3AWeb+scraping\"></span></span>,\n",
       " <span class=\"reference-text\"><link href=\"mw-data:TemplateStyles:r1238218222\" rel=\"mw-deduplicated-inline-style\"/><cite class=\"citation web cs1 cs1-prop-foreign-lang-source\"><a class=\"external text\" href=\"https://web.archive.org/web/20071012005033/http://www.bvhd.dk/uploads/tx_mocarticles/S_-_og_Handelsrettens_afg_relse_i_Ofir-sagen.pdf\" rel=\"nofollow\">\"UDSKRIFT AF SØ- &amp; HANDELSRETTENS DOMBOG\"</a> <span class=\"cs1-format\">(PDF)</span> (in Danish). bvhd.dk. 2006-02-24. Archived from <a class=\"external text\" href=\"http://www.bvhd.dk/uploads/tx_mocarticles/S_-_og_Handelsrettens_afg_relse_i_Ofir-sagen.pdf\" rel=\"nofollow\">the original</a> <span class=\"cs1-format\">(PDF)</span> on 2007-10-12<span class=\"reference-accessdate\">. Retrieved <span class=\"nowrap\">2007-05-30</span></span>.</cite><span class=\"Z3988\" title=\"ctx_ver=Z39.88-2004&amp;rft_val_fmt=info%3Aofi%2Ffmt%3Akev%3Amtx%3Abook&amp;rft.genre=unknown&amp;rft.btitle=UDSKRIFT+AF+S%C3%98-+%26+HANDELSRETTENS+DOMBOG&amp;rft.pub=bvhd.dk&amp;rft.date=2006-02-24&amp;rft_id=http%3A%2F%2Fwww.bvhd.dk%2Fuploads%2Ftx_mocarticles%2FS_-_og_Handelsrettens_afg_relse_i_Ofir-sagen.pdf&amp;rfr_id=info%3Asid%2Fen.wikipedia.org%3AWeb+scraping\"></span></span>,\n",
       " <span class=\"reference-text\"><link href=\"mw-data:TemplateStyles:r1238218222\" rel=\"mw-deduplicated-inline-style\"/><cite class=\"citation web cs1\"><a class=\"external text\" href=\"https://digital-strategy.ec.europa.eu/en/policies/regulatory-framework-ai\" rel=\"nofollow\">\"AI Act | Shaping Europe's digital future\"</a>. <i>digital-strategy.ec.europa.eu</i>. 2025-09-16<span class=\"reference-accessdate\">. Retrieved <span class=\"nowrap\">2025-09-28</span></span>.</cite><span class=\"Z3988\" title=\"ctx_ver=Z39.88-2004&amp;rft_val_fmt=info%3Aofi%2Ffmt%3Akev%3Amtx%3Ajournal&amp;rft.genre=unknown&amp;rft.jtitle=digital-strategy.ec.europa.eu&amp;rft.atitle=AI+Act+%7C+Shaping+Europe%E2%80%99s+digital+future&amp;rft.date=2025-09-16&amp;rft_id=https%3A%2F%2Fdigital-strategy.ec.europa.eu%2Fen%2Fpolicies%2Fregulatory-framework-ai&amp;rfr_id=info%3Asid%2Fen.wikipedia.org%3AWeb+scraping\"></span></span>,\n",
       " <span class=\"reference-text\"><link href=\"mw-data:TemplateStyles:r1238218222\" rel=\"mw-deduplicated-inline-style\"/><cite class=\"citation web cs1\"><a class=\"external text\" href=\"http://www.bailii.org/ie/cases/IEHC/2010/H47.html\" rel=\"nofollow\">\"High Court of Ireland Decisions &gt;&gt; Ryanair Ltd -v- Billigfluege.de GMBH 2010 IEHC 47 (26 February 2010)\"</a>. British and Irish Legal Information Institute. 2010-02-26<span class=\"reference-accessdate\">. Retrieved <span class=\"nowrap\">2012-04-19</span></span>.</cite><span class=\"Z3988\" title=\"ctx_ver=Z39.88-2004&amp;rft_val_fmt=info%3Aofi%2Ffmt%3Akev%3Amtx%3Abook&amp;rft.genre=unknown&amp;rft.btitle=High+Court+of+Ireland+Decisions+%3E%3E+Ryanair+Ltd+-v-+Billigfluege.de+GMBH+2010+IEHC+47+%2826+February+2010%29&amp;rft.pub=British+and+Irish+Legal+Information+Institute&amp;rft.date=2010-02-26&amp;rft_id=http%3A%2F%2Fwww.bailii.org%2Fie%2Fcases%2FIEHC%2F2010%2FH47.html&amp;rfr_id=info%3Asid%2Fen.wikipedia.org%3AWeb+scraping\"></span></span>,\n",
       " <span class=\"reference-text\"><link href=\"mw-data:TemplateStyles:r1238218222\" rel=\"mw-deduplicated-inline-style\"/><cite class=\"citation web cs1\" id=\"CITEREFMatthews2010\">Matthews, Áine (June 2010). <a class=\"external text\" href=\"https://web.archive.org/web/20120624103316/http://www.lkshields.ie/htmdocs/publications/newsletters/update26/update26_03.htm\" rel=\"nofollow\">\"Intellectual Property: Website Terms of Use\"</a>. <i>Issue 26: June 2010</i>. LK Shields Solicitors Update. p. 03. Archived from <a class=\"external text\" href=\"http://www.lkshields.ie/htmdocs/publications/newsletters/update26/update26_03.htm\" rel=\"nofollow\">the original</a> on 2012-06-24<span class=\"reference-accessdate\">. Retrieved <span class=\"nowrap\">2012-04-19</span></span>.</cite><span class=\"Z3988\" title=\"ctx_ver=Z39.88-2004&amp;rft_val_fmt=info%3Aofi%2Ffmt%3Akev%3Amtx%3Ajournal&amp;rft.genre=unknown&amp;rft.jtitle=Issue+26%3A+June+2010&amp;rft.atitle=Intellectual+Property%3A+Website+Terms+of+Use&amp;rft.pages=03&amp;rft.date=2010-06&amp;rft.aulast=Matthews&amp;rft.aufirst=%C3%81ine&amp;rft_id=http%3A%2F%2Fwww.lkshields.ie%2Fhtmdocs%2Fpublications%2Fnewsletters%2Fupdate26%2Fupdate26_03.htm&amp;rfr_id=info%3Asid%2Fen.wikipedia.org%3AWeb+scraping\"></span></span>,\n",
       " <span class=\"reference-text\"><link href=\"mw-data:TemplateStyles:r1238218222\" rel=\"mw-deduplicated-inline-style\"/><cite class=\"citation web cs1 cs1-prop-foreign-lang-source\"><a class=\"external text\" href=\"https://www.cnil.fr/fr/la-reutilisation-des-donnees-publiquement-accessibles-en-ligne-des-fins-de-demarchage-commercial\" rel=\"nofollow\">\"La réutilisation des données publiquement accessibles en ligne à des fins de démarchage commercial | CNIL\"</a>. <i>www.cnil.fr</i> (in French)<span class=\"reference-accessdate\">. Retrieved <span class=\"nowrap\">2020-07-05</span></span>.</cite><span class=\"Z3988\" title=\"ctx_ver=Z39.88-2004&amp;rft_val_fmt=info%3Aofi%2Ffmt%3Akev%3Amtx%3Ajournal&amp;rft.genre=unknown&amp;rft.jtitle=www.cnil.fr&amp;rft.atitle=La+r%C3%A9utilisation+des+donn%C3%A9es+publiquement+accessibles+en+ligne+%C3%A0+des+fins+de+d%C3%A9marchage+commercial+%7C+CNIL&amp;rft_id=https%3A%2F%2Fwww.cnil.fr%2Ffr%2Fla-reutilisation-des-donnees-publiquement-accessibles-en-ligne-des-fins-de-demarchage-commercial&amp;rfr_id=info%3Asid%2Fen.wikipedia.org%3AWeb+scraping\"></span></span>,\n",
       " <span class=\"reference-text\"><link href=\"mw-data:TemplateStyles:r1238218222\" rel=\"mw-deduplicated-inline-style\"/><cite class=\"citation web cs1\" id=\"CITEREFFindDataLab.com2020\">FindDataLab.com (2020-06-09). <a class=\"external text\" href=\"https://medium.com/@finddatalab/can-you-still-perform-web-scraping-with-the-new-cnil-guidelines-bf3e20d0edc2\" rel=\"nofollow\">\"Can You Still Perform Web Scraping With The New CNIL Guidelines?\"</a>. <i>Medium</i><span class=\"reference-accessdate\">. Retrieved <span class=\"nowrap\">2020-07-05</span></span>.</cite><span class=\"Z3988\" title=\"ctx_ver=Z39.88-2004&amp;rft_val_fmt=info%3Aofi%2Ffmt%3Akev%3Amtx%3Ajournal&amp;rft.genre=unknown&amp;rft.jtitle=Medium&amp;rft.atitle=Can+You+Still+Perform+Web+Scraping+With+The+New+CNIL+Guidelines%3F&amp;rft.date=2020-06-09&amp;rft.au=FindDataLab.com&amp;rft_id=https%3A%2F%2Fmedium.com%2F%40finddatalab%2Fcan-you-still-perform-web-scraping-with-the-new-cnil-guidelines-bf3e20d0edc2&amp;rfr_id=info%3Asid%2Fen.wikipedia.org%3AWeb+scraping\"></span></span>,\n",
       " <span class=\"reference-text\"><link href=\"mw-data:TemplateStyles:r1238218222\" rel=\"mw-deduplicated-inline-style\"/><cite class=\"citation web cs1\" id=\"CITEREFNational_Office_for_the_Information_Economy2004\">National Office for the Information Economy (February 2004). <a class=\"external text\" href=\"https://web.archive.org/web/20191203113701/https://www.lloyds.com/~/media/5880dae185914b2487bed7bd63b96286.ashx\" rel=\"nofollow\">\"Spam Act 2003: An overview for business\"</a>. Australian Communications Authority. p. 6. Archived from <a class=\"external text\" href=\"https://www.lloyds.com/~/media/5880dae185914b2487bed7bd63b96286.ashx\" rel=\"nofollow\">the original</a> on 2019-12-03<span class=\"reference-accessdate\">. Retrieved <span class=\"nowrap\">2017-12-07</span></span>.</cite><span class=\"Z3988\" title=\"ctx_ver=Z39.88-2004&amp;rft_val_fmt=info%3Aofi%2Ffmt%3Akev%3Amtx%3Abook&amp;rft.genre=unknown&amp;rft.btitle=Spam+Act+2003%3A+An+overview+for+business&amp;rft.pages=6&amp;rft.pub=Australian+Communications+Authority&amp;rft.date=2004-02&amp;rft.au=National+Office+for+the+Information+Economy&amp;rft_id=https%3A%2F%2Fwww.lloyds.com%2F~%2Fmedia%2F5880dae185914b2487bed7bd63b96286.ashx&amp;rfr_id=info%3Asid%2Fen.wikipedia.org%3AWeb+scraping\"></span></span>,\n",
       " <span class=\"reference-text\"><link href=\"mw-data:TemplateStyles:r1238218222\" rel=\"mw-deduplicated-inline-style\"/><cite class=\"citation web cs1\" id=\"CITEREFNational_Office_for_the_Information_Economy2004\">National Office for the Information Economy (February 2004). <a class=\"external text\" href=\"http://www.webstartdesign.com.au/spam_business_practical_guide.pdf\" rel=\"nofollow\">\"Spam Act 2003: A practical guide for business\"</a> <span class=\"cs1-format\">(PDF)</span>. Australian Communications Authority. p. 20<span class=\"reference-accessdate\">. Retrieved <span class=\"nowrap\">2017-12-07</span></span>.</cite><span class=\"Z3988\" title=\"ctx_ver=Z39.88-2004&amp;rft_val_fmt=info%3Aofi%2Ffmt%3Akev%3Amtx%3Abook&amp;rft.genre=unknown&amp;rft.btitle=Spam+Act+2003%3A+A+practical+guide+for+business&amp;rft.pages=20&amp;rft.pub=Australian+Communications+Authority&amp;rft.date=2004-02&amp;rft.au=National+Office+for+the+Information+Economy&amp;rft_id=http%3A%2F%2Fwww.webstartdesign.com.au%2Fspam_business_practical_guide.pdf&amp;rfr_id=info%3Asid%2Fen.wikipedia.org%3AWeb+scraping\"></span></span>,\n",
       " <span class=\"reference-text\"><link href=\"mw-data:TemplateStyles:r1238218222\" rel=\"mw-deduplicated-inline-style\"/><cite class=\"citation web cs1\"><a class=\"external text\" href=\"https://proxyway.com/guides/what-is-web-scraping\" rel=\"nofollow\">\"Web Scraping for Beginners: A Guide 2024\"</a>. <i>Proxyway</i>. 2023-08-31<span class=\"reference-accessdate\">. Retrieved <span class=\"nowrap\">2024-03-15</span></span>.</cite><span class=\"Z3988\" title=\"ctx_ver=Z39.88-2004&amp;rft_val_fmt=info%3Aofi%2Ffmt%3Akev%3Amtx%3Ajournal&amp;rft.genre=unknown&amp;rft.jtitle=Proxyway&amp;rft.atitle=Web+Scraping+for+Beginners%3A+A+Guide+2024&amp;rft.date=2023-08-31&amp;rft_id=https%3A%2F%2Fproxyway.com%2Fguides%2Fwhat-is-web-scraping&amp;rfr_id=info%3Asid%2Fen.wikipedia.org%3AWeb+scraping\"></span></span>,\n",
       " <span class=\"reference-text\">Mayank Dhiman <a class=\"external text\" href=\"https://s3.us-west-2.amazonaws.com/research-papers-mynk/Breaking-Fraud-And-Bot-Detection-Solutions.pdf\" rel=\"nofollow\">Breaking Fraud &amp; Bot Detection Solutions</a> <i>OWASP AppSec Cali' 2018</i> Retrieved February 10, 2018.</span>]"
      ]
     },
     "execution_count": 8,
     "metadata": {},
     "output_type": "execute_result"
    }
   ],
   "source": [
    "references_list"
   ]
  },
  {
   "cell_type": "code",
   "execution_count": 6,
   "metadata": {},
   "outputs": [
    {
     "name": "stdout",
     "output_type": "stream",
     "text": [
      "https://doi.org/10.5334%2Fdsj-2021-024\n",
      "/wiki/Doi_(identifier)\n",
      "https://doi.org/10.5334%2Fdsj-2021-024\n",
      "/wiki/ISSN_(identifier)\n",
      "https://search.worldcat.org/issn/1683-1470\n",
      "/wiki/S2CID_(identifier)\n",
      "https://api.semanticscholar.org/CorpusID:237719804\n",
      "http://www.searchenginehistory.com/\n",
      "https://thehistoryoftheweb.com/ebay-apis-connected-web/\n",
      "https://web.archive.org/web/20161011080619/https://pdfs.semanticscholar.org/4fb4/3c5a212df751e84c3b2f8d29fabfe56c3616.pdf\n",
      "/wiki/Doi_(identifier)\n",
      "https://doi.org/10.1145%2F1281192.1281287\n",
      "/wiki/ISBN_(identifier)\n",
      "/wiki/Special:BookSources/9781595936097\n",
      "/wiki/S2CID_(identifier)\n",
      "https://api.semanticscholar.org/CorpusID:833565\n",
      "https://pdfs.semanticscholar.org/4fb4/3c5a212df751e84c3b2f8d29fabfe56c3616.pdf\n",
      "http://www.gooseeker.com/en/node/knowledgebase/freeformat\n",
      "http://www.xconomy.com/san-francisco/2012/07/25/diffbot-is-using-computer-vision-to-reinvent-the-semantic-web/\n",
      "https://web.archive.org/web/20020308222536/http://www.chillingeffects.org/linking/faq.cgi#QID596\n",
      "http://www.chillingeffects.org/linking/faq.cgi#QID596\n",
      "http://scholarship.law.berkeley.edu/btlj/vol29/iss4/16/\n",
      "/wiki/Doi_(identifier)\n",
      "https://doi.org/10.15779%2FZ38B39B\n",
      "/wiki/ISSN_(identifier)\n",
      "https://search.worldcat.org/issn/1086-3818\n",
      "/wiki/Template:Cite_journal\n",
      "/wiki/Category:CS1_maint:_multiple_names:_authors_list\n",
      "http://www.tomwbell.com/NetLaw/Ch06.html\n",
      "https://web.archive.org/web/20020308222536/http://www.chillingeffects.org/linking/faq.cgi#QID460\n",
      "http://www.chillingeffects.org/linking/faq.cgi#QID460\n",
      "http://www.tomwbell.com/NetLaw/Ch07/Ticketmaster.html\n",
      "https://web.archive.org/web/20110723131832/http://www.fornova.net/documents/AAFareChase.pdf\n",
      "http://www.fornova.net/documents/AAFareChase.pdf\n",
      "https://web.archive.org/web/20160305025808/http://www.thefreelibrary.com/American+Airlines,+FareChase+Settle+Suit.-a0103213546\n",
      "http://www.thefreelibrary.com/American+Airlines,+FareChase+Settle+Suit.-a0103213546\n",
      "http://www.imperva.com/docs/WP_Detecting_and_Blocking_Site_Scraping_Attacks.pdf\n",
      "https://web.archive.org/web/20110211123854/http://library.findlaw.com/2003/Jul/29/132944.html\n",
      "http://library.findlaw.com/2003/Jul/29/132944.html\n",
      "https://web.archive.org/web/20130921054619/http://www.fornova.net/documents/Cvent.pdf\n",
      "http://www.fornova.net/documents/Cvent.pdf\n",
      "https://www.scribd.com/doc/249068700/LinkedIn-v-Resultly-LLC-Complaint?secret_password=pEVKDbnvhQL52oKfdrmT\n",
      "http://newmedialaw.proskauer.com/2014/12/05/qvc-sues-shopping-app-for-web-scraping-that-allegedly-triggered-site-outage/\n",
      "https://web.archive.org/web/20110723132015/http://www.fornova.net/documents/pblog-bna-com.pdf\n",
      "http://www.fornova.net/documents/pblog-bna-com.pdf\n",
      "https://www.techdirt.com/articles/20090605/2228205147.shtml\n",
      "https://www.eff.org/cases/facebook-v-power-ventures\n",
      "https://www.reuters.com/technology/us-supreme-court-revives-linkedin-bid-shield-personal-data-2021-06-14/\n",
      "/wiki/Reuters\n",
      "https://techcrunch.com/2022/04/18/web-scraping-legal-court/\n",
      "https://web.archive.org/web/20071012005033/http://www.bvhd.dk/uploads/tx_mocarticles/S_-_og_Handelsrettens_afg_relse_i_Ofir-sagen.pdf\n",
      "http://www.bvhd.dk/uploads/tx_mocarticles/S_-_og_Handelsrettens_afg_relse_i_Ofir-sagen.pdf\n",
      "https://digital-strategy.ec.europa.eu/en/policies/regulatory-framework-ai\n",
      "http://www.bailii.org/ie/cases/IEHC/2010/H47.html\n",
      "https://web.archive.org/web/20120624103316/http://www.lkshields.ie/htmdocs/publications/newsletters/update26/update26_03.htm\n",
      "http://www.lkshields.ie/htmdocs/publications/newsletters/update26/update26_03.htm\n",
      "https://www.cnil.fr/fr/la-reutilisation-des-donnees-publiquement-accessibles-en-ligne-des-fins-de-demarchage-commercial\n",
      "https://medium.com/@finddatalab/can-you-still-perform-web-scraping-with-the-new-cnil-guidelines-bf3e20d0edc2\n",
      "https://web.archive.org/web/20191203113701/https://www.lloyds.com/~/media/5880dae185914b2487bed7bd63b96286.ashx\n",
      "https://www.lloyds.com/~/media/5880dae185914b2487bed7bd63b96286.ashx\n",
      "http://www.webstartdesign.com.au/spam_business_practical_guide.pdf\n",
      "https://proxyway.com/guides/what-is-web-scraping\n",
      "https://s3.us-west-2.amazonaws.com/research-papers-mynk/Breaking-Fraud-And-Bot-Detection-Solutions.pdf\n"
     ]
    }
   ],
   "source": [
    "# Select the **References section**\n",
    "references = browser.page.select_one('ol.references')\n",
    "\n",
    "# Select all span tags with the class `reference-text` to exclude backlinks\n",
    "references_list = references.select('span.reference-text')\n",
    "\n",
    "# For each reference span tag, find all anchor elements and print their href attribute values\n",
    "for reference in references_list:\n",
    "    link_tags = reference.find_all(\"a\")\n",
    "    \n",
    "    for link_tag in link_tags:\n",
    "        link = link_tag.get(\"href\")\n",
    "        if link:\n",
    "            print(link)"
   ]
  },
  {
   "cell_type": "markdown",
   "metadata": {},
   "source": [
    "### Advanced Web Scraping with MechanicalSoup\n",
    "\n",
    "Now that you know how to scrape simple websites with `MechanicalSoup`, you can learn how to use it to scrape dynamic multipage websites. In this section, you'll scrape a sandbox called [Scrape This Site](https://www.scrapethissite.com/) . First, navigate to its home page:\n",
    "\n",
    "To navigate through web pages, you can use MechanicalSoup's `follow_link` function. You'll need to provide it with the target link that you want to navigate to, so locate and select the appropriate anchor tags on each page and extract their `href` attribute values."
   ]
  },
  {
   "cell_type": "code",
   "execution_count": 9,
   "metadata": {},
   "outputs": [
    {
     "name": "stdout",
     "output_type": "stream",
     "text": [
      "https://www.scrapethissite.com/\n"
     ]
    }
   ],
   "source": [
    "browser.open(\"https://www.scrapethissite.com/\")\n",
    "\n",
    "print(browser.url)"
   ]
  },
  {
   "cell_type": "markdown",
   "metadata": {},
   "source": [
    "Next, find the link to the sandbox page from the navigation bar. If you inspect the page, you'll find that the link is inside an `<li>` tag that has the `id` as `nav-sandbox`. You can use the following code to extract and follow the link from this tag:"
   ]
  },
  {
   "cell_type": "code",
   "execution_count": 10,
   "metadata": {},
   "outputs": [
    {
     "name": "stdout",
     "output_type": "stream",
     "text": [
      "https://www.scrapethissite.com/pages/\n"
     ]
    }
   ],
   "source": [
    "sandbox_nav_link = browser.page.select_one('li#nav-sandbox')\n",
    "\n",
    "sandbox_link = sandbox_nav_link.select_one('a')\n",
    "\n",
    "browser.follow_link(sandbox_link)\n",
    "\n",
    "print(browser.url)"
   ]
  },
  {
   "cell_type": "markdown",
   "metadata": {},
   "source": [
    "Next, locate and follow the **Hockey Teams: Forms, Searching and Pagination** link. If you inspect the HTML structure around this element, you'll notice that each link on this page is inside `<div class=\"page\">` tags.\n",
    "\n",
    "<div>\n",
    "<img src=\"https://www.scrapingbee.com/blog/getting-started-with-mechanicalsoup/inspect-sandbox-page_hu8403476182413272040.png\" width=\"1000\"/>\n",
    "</div>"
   ]
  },
  {
   "cell_type": "markdown",
   "metadata": {},
   "source": [
    "You can extract all these `divs` first, select the second `div`, and then select and extract the link from the `a` tag from within it. Here's the code you can use to do that:"
   ]
  },
  {
   "cell_type": "code",
   "execution_count": 11,
   "metadata": {},
   "outputs": [
    {
     "name": "stdout",
     "output_type": "stream",
     "text": [
      "https://www.scrapethissite.com/pages/forms/\n"
     ]
    }
   ],
   "source": [
    "sandbox_list_items = browser.page.select('div.page')\n",
    "\n",
    "hockey_list_item = sandbox_list_items[1]\n",
    "\n",
    "forms_sandbox_link = hockey_list_item.select_one('a')\n",
    "\n",
    "browser.follow_link(forms_sandbox_link)\n",
    "\n",
    "print(browser.url)"
   ]
  },
  {
   "cell_type": "markdown",
   "metadata": {},
   "source": [
    "This will bring your browser to the hockey teams information page. Putting all together, we can create a function to do the navigation for us:"
   ]
  },
  {
   "cell_type": "code",
   "execution_count": 12,
   "metadata": {},
   "outputs": [],
   "source": [
    "def navigate():\n",
    "    browser.open(\"https://www.scrapethissite.com/\")\n",
    "\n",
    "    print(browser.url)\n",
    "\n",
    "    sandbox_nav_link = browser.page.select_one('li#nav-sandbox')\n",
    "\n",
    "    sandbox_link = sandbox_nav_link.select_one('a')\n",
    "\n",
    "    browser.follow_link(sandbox_link)\n",
    "\n",
    "    print(browser.url)\n",
    "\n",
    "    sandbox_list_items = browser.page.select('div.page')\n",
    "\n",
    "    hockey_list_item = sandbox_list_items[1]\n",
    "\n",
    "    forms_sandbox_link = hockey_list_item.select_one('a')\n",
    "\n",
    "    browser.follow_link(forms_sandbox_link)\n",
    "\n",
    "    print(browser.url)"
   ]
  },
  {
   "cell_type": "code",
   "execution_count": 13,
   "metadata": {},
   "outputs": [
    {
     "name": "stdout",
     "output_type": "stream",
     "text": [
      "https://www.scrapethissite.com/\n",
      "https://www.scrapethissite.com/pages/\n",
      "https://www.scrapethissite.com/pages/forms/\n"
     ]
    }
   ],
   "source": [
    "navigate()"
   ]
  },
  {
   "cell_type": "markdown",
   "metadata": {},
   "source": [
    "#### Handling Forms\n",
    "\n",
    "Suppose that we want to extract information of teams that contain the word \"new\" in their name. To do this, we need to fill the search form with the word \"new\" and submit it. `MechanicalSoup` offers a `form` class to facilitate simpler form handling. You can select a form using its CSS selector and then easily pass input to it according to the names of its input fields.\n",
    "\n",
    "MechanicalSoup also provides a simple function called `submit_selected()` , which allows you to submit a form without having to locate and click its submit button.\n",
    "\n",
    "If you inspect the website's structure, you'll notice that the form element has the classes `form` and `form-inline`. You can use one of these to identify and select the form. Notice that the input box has been named `q`. You can use these two details to write the code for handling this page's search form in the `handle_form()` function. But first, let's write a function to extract the data from a Table.\n",
    "\n",
    "To extract the table data from the page, you'll use the `select_one` and `select` functions from Beautiful Soup, just as you did earlier in this tutorial. Save the following code in your `extract_table_data` function:"
   ]
  },
  {
   "cell_type": "code",
   "execution_count": 15,
   "metadata": {},
   "outputs": [],
   "source": [
    "import csv\n",
    "def extract_table_data(file_name):\n",
    "\n",
    "    # Select the table element\n",
    "    results = browser.page.select_one('table')\n",
    "\n",
    "    # Open a file and prepare a CSV Writer object\n",
    "    file = open(file_name, 'w')\n",
    "    csvwriter = csv.writer(file)\n",
    "\n",
    "    # Select the headers from the table first\n",
    "    headers = results.select('th')\n",
    "\n",
    "    # Create a temporary array to store the extract table header cells\n",
    "    temp_header_row = []\n",
    "\n",
    "    # For each header from the headers row, add it to the temporary array\n",
    "    for header in headers:\n",
    "        temp_header_row.append(header.string.strip().replace(\",\", \"\"))\n",
    "\n",
    "    # Write the temporary array to the CSV file\n",
    "    csvwriter.writerow(temp_header_row)\n",
    "    \n",
    "    # Next, select all rows of the table\n",
    "    rows = results.select('tr.team')\n",
    "\n",
    "    # For each row, prepare a temporary array containing all extracted cells and append it to the CSV file\n",
    "    for row in rows:\n",
    "        cells = row.select('td')\n",
    "        temp_row = []\n",
    "\n",
    "        for cell in cells:\n",
    "            temp_row.append(cell.string.strip().replace(\",\", \"\"))\n",
    "\n",
    "        csvwriter.writerow(temp_row)\n",
    "\n",
    "    # Close the CSV file at the end\n",
    "    file.close()"
   ]
  },
  {
   "cell_type": "markdown",
   "metadata": {},
   "source": [
    "Now goin back to the `handle_form` function, you can use the `extract_table_data` function to extract the data from the table after submitting the form. Here's the complete code for the `handle_form` function:"
   ]
  },
  {
   "cell_type": "code",
   "execution_count": 16,
   "metadata": {},
   "outputs": [],
   "source": [
    "def handle_form():\n",
    "    browser.select_form('form.form-inline')\n",
    "\n",
    "    browser.form.input({\"q\": \"new\"})\n",
    "\n",
    "    browser.submit_selected()\n",
    "\n",
    "    extract_table_data(\"first-page-results.csv\")"
   ]
  },
  {
   "cell_type": "code",
   "execution_count": 17,
   "metadata": {},
   "outputs": [],
   "source": [
    "handle_form()"
   ]
  },
  {
   "cell_type": "markdown",
   "metadata": {},
   "source": [
    "### Handling Pagination\n",
    "\n",
    "MechanicalSoup doesn't offer any special methods for handling paginations. You have to select the appropriate link from the pagination element and follow it via your browser object to navigate to the desired page.\n",
    "\n",
    "Here's what the HTML structure of the pagination element looks like:\n",
    "\n",
    "<div>\n",
    "<img src=\"https://www.scrapingbee.com/blog/getting-started-with-mechanicalsoup/pagination-links-html-structure_hu9569013241349928453.png\" width=\"1000\"/>\n",
    "</div>"
   ]
  },
  {
   "cell_type": "markdown",
   "metadata": {},
   "source": [
    "First, select the `<ul>` tag that has the pagination class added to it. Then, find the right `<li>` tag in it (based on the page number you want to navigate to), and finally, extract the `href` value from the `<a>` tag inside the `<li>` tag you identified. Here's the code to do it:"
   ]
  },
  {
   "cell_type": "code",
   "execution_count": 18,
   "metadata": {},
   "outputs": [],
   "source": [
    "def handle_pagination():\n",
    "    pagination_links = browser.page.select_one('ul.pagination')\n",
    "\n",
    "    page_links = pagination_links.select('li')\n",
    "\n",
    "    # Choose the link at index 1 to navigate to page 2\n",
    "    next_page = page_links[1]\n",
    "\n",
    "    next_page_link = next_page.select_one('a')\n",
    "\n",
    "    browser.follow_link(next_page_link)\n",
    "\n",
    "    print(browser.url)\n",
    "\n",
    "    # Extract the table data from this page too\n",
    "    extract_table_data('second-page-results.csv')"
   ]
  },
  {
   "cell_type": "code",
   "execution_count": 19,
   "metadata": {},
   "outputs": [
    {
     "name": "stdout",
     "output_type": "stream",
     "text": [
      "https://www.scrapethissite.com/pages/forms/?page_num=2&q=new\n"
     ]
    }
   ],
   "source": [
    "handle_pagination()"
   ]
  },
  {
   "cell_type": "markdown",
   "metadata": {},
   "source": [
    "Notice that two new CSV files will be created in the project directory: `first-page-results.csv` and `second-page-results.csv`. These will contain the results data extracted from the tables. This completes the tutorial for setting up web scraping using MechanicalSoup in Python!"
   ]
  },
  {
   "cell_type": "markdown",
   "metadata": {},
   "source": [
    "# <center>Thank you!<a class=\"tocSkip\"></center>\n",
    "***"
   ]
  }
 ],
 "metadata": {
  "kernelspec": {
   "display_name": "causal_ml_python",
   "language": "python",
   "name": "python3"
  },
  "language_info": {
   "codemirror_mode": {
    "name": "ipython",
    "version": 3
   },
   "file_extension": ".py",
   "mimetype": "text/x-python",
   "name": "python",
   "nbconvert_exporter": "python",
   "pygments_lexer": "ipython3",
   "version": "3.10.13"
  }
 },
 "nbformat": 4,
 "nbformat_minor": 2
}
